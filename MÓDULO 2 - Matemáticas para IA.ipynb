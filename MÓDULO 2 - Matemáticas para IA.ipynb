{
 "cells": [
  {
   "cell_type": "markdown",
   "metadata": {
    "id": "keYrauiQD_Ta"
   },
   "source": [
    "# MÓDULO 2. Matemáticas para IA  (4 horas)"
   ]
  },
  {
   "cell_type": "code",
   "execution_count": 1,
   "metadata": {
    "executionInfo": {
     "elapsed": 202,
     "status": "ok",
     "timestamp": 1698015858393,
     "user": {
      "displayName": "JOHN FREDY SUAREZ PEREZ",
      "userId": "07610715876772400534"
     },
     "user_tz": 300
    },
    "id": "iQClOxpqE9wn",
    "tags": []
   },
   "outputs": [],
   "source": [
    "import numpy as np # Cargando la librería **numpy**"
   ]
  },
  {
   "cell_type": "markdown",
   "metadata": {
    "id": "ctA7RiNNEF84"
   },
   "source": [
    "## 2.1 Algebra lineal y cálculo para IA\n",
    "\n",
    "Una de las herramientas matemáticas más usadas en los campos del aprendizaje automático (Machine Learning (ML), en inglés) e Inteligencia Artificial (IA) es el álgebra lineal. Por lo tanto, para introducirnos en el universo del aprendizaje automático y el análisis de datos, resulta necesario fortalecer nuestra comprensión de los principios que conforman su base.\n",
    "\n",
    "El álgebra lineal es una rama de las matemáticas que se enfoca en el estudio de vectores, espacios vectoriales y transformaciones lineales, así como en las propiedades de estos objetos matemáticos. Es una disciplina fundamental en diversas áreas de la ciencia, incluyendo la física, la informática, la economía, la ingeniería, la estadística y, por supuesto, en la inteligencia artificial.\n"
   ]
  },
  {
   "cell_type": "markdown",
   "metadata": {
    "id": "1YaYq-0tEMnI"
   },
   "source": [
    "### **2.1.1 Conceptos Fundamentales del Álgebra Lineal**\n"
   ]
  },
  {
   "cell_type": "markdown",
   "metadata": {
    "id": "QfXT_4G0EOZf"
   },
   "source": [
    "#### **2.1.1.1 Escalares**\n",
    "\n",
    "Un escalar es un concepto que se utiliza para representar una cantidad que solo tiene magnitud o valor numérico, pero no tiene dirección ni componente en un espacio multidimensional. En otras palabras, un escalar es simplemente un número que se utiliza para describir la cantidad de algo sin referencia a su orientación o dirección en el espacio.\n",
    "\n",
    "En python un escalar se puede representar en dos tipos de formatos, un escalar de tipo entero (int, de integer, en inglés), o de tipo decimal (float).\n"
   ]
  },
  {
   "cell_type": "code",
   "execution_count": 2,
   "metadata": {
    "id": "jbFodgZZD3bP",
    "tags": []
   },
   "outputs": [],
   "source": [
    "a = 3     # Escalar de tipo entero (int)\n",
    "a = 3.5   # Escalar de tipo flotante (float)"
   ]
  },
  {
   "cell_type": "markdown",
   "metadata": {
    "id": "IKR1YX5rETS4"
   },
   "source": [
    "#### **2.1.1.2 Vectores**\n",
    "\n",
    "Un vector es un objeto que se utiliza para representar una cantidad que tiene tanto magnitud (longitud o tamaño) como dirección, en un espacio multidimensional. En otras palabras, un vector es una entidad matemática que se caracteriza por dos componentes principales: su longitud (o módulo) y la dirección en la que apunta.\n",
    "\n",
    "Los vectores se representan generalmente como flechas que tienen un punto de inicio (origen) y un punto final (extremo), y la longitud de la flecha representa la magnitud del vector, mientras que la dirección en la que apunta la flecha representa la dirección del vector. La magnitud de un vector se denota a menudo por $|\\vec{v}|$ o simplemente $v$, y puede ser un número real positivo.\n",
    "\n",
    "\n",
    "Un vector puede ser de tipo fila,\n",
    "\n",
    "$$\\begin{equation} f = \\begin{vmatrix} f_1 & f_2  & \\cdots & f_n  \\end{vmatrix} \\end{equation}$$\n",
    "\n",
    "o de tipo columna,\n",
    "\n",
    "$$ \\begin{equation} c = \\begin{vmatrix} c_1 \\\\ c_2 \\\\ \\cdots  \\\\ c_n \\\\ \\end{vmatrix} \\end{equation}$$\n",
    "\n",
    "En python un vector se puede representar usando la librería numpy, donde cada elemento del vector es separado por comas.\n",
    "\n",
    "Un vector fila puede representarse con la siguiente línea de código,"
   ]
  },
  {
   "cell_type": "code",
   "execution_count": 3,
   "metadata": {
    "colab": {
     "base_uri": "https://localhost:8080/"
    },
    "executionInfo": {
     "elapsed": 6,
     "status": "ok",
     "timestamp": 1696865914414,
     "user": {
      "displayName": "JOHN FREDY SUAREZ PEREZ",
      "userId": "07610715876772400534"
     },
     "user_tz": 300
    },
    "id": "7bWPro7AERKA",
    "outputId": "bfe98e41-294c-49ad-d2ca-84ec6160a1c9",
    "tags": []
   },
   "outputs": [
    {
     "data": {
      "text/plain": [
       "array([1, 2, 3, 4, 5])"
      ]
     },
     "execution_count": 3,
     "metadata": {},
     "output_type": "execute_result"
    }
   ],
   "source": [
    "f = np.array([1, 2, 3, 4, 5])  # Definiendo el vector fila, con 5 elementos\n",
    "f"
   ]
  },
  {
   "cell_type": "markdown",
   "metadata": {
    "id": "j8Cp8GeJGCjt"
   },
   "source": [
    "Por otro lado, un vector columna puede representarse con la siguiente línea de código, nótese que al momento de imprimirlo se puede identificar más fácilmente el tipo de vector."
   ]
  },
  {
   "cell_type": "code",
   "execution_count": 4,
   "metadata": {
    "colab": {
     "base_uri": "https://localhost:8080/"
    },
    "executionInfo": {
     "elapsed": 4,
     "status": "ok",
     "timestamp": 1696866012732,
     "user": {
      "displayName": "JOHN FREDY SUAREZ PEREZ",
      "userId": "07610715876772400534"
     },
     "user_tz": 300
    },
    "id": "dS9W1V93Fv4f",
    "outputId": "7e1a5055-74ce-488b-ac05-04e9c2369ba7",
    "tags": []
   },
   "outputs": [
    {
     "data": {
      "text/plain": [
       "array([[1],\n",
       "       [2],\n",
       "       [3],\n",
       "       [4],\n",
       "       [5]])"
      ]
     },
     "execution_count": 4,
     "metadata": {},
     "output_type": "execute_result"
    }
   ],
   "source": [
    "c = np.array([[1], [2], [3], [4], [5]])  # Definiendo el vector fila, con 5 elementos\n",
    "c"
   ]
  },
  {
   "cell_type": "markdown",
   "metadata": {
    "id": "Yczg7P9tR5Op"
   },
   "source": [
    "\n",
    "En python estos vectores se pueden representar gráficamente usando la librería pyplot mediante la siguiente función"
   ]
  },
  {
   "cell_type": "code",
   "execution_count": 5,
   "metadata": {
    "executionInfo": {
     "elapsed": 221,
     "status": "ok",
     "timestamp": 1698023168551,
     "user": {
      "displayName": "JOHN FREDY SUAREZ PEREZ",
      "userId": "07610715876772400534"
     },
     "user_tz": 300
    },
    "id": "tOP3zZjGR6Aa",
    "tags": []
   },
   "outputs": [],
   "source": [
    "import pylab as pl\n",
    "\n",
    "def dibujar_vector(vector, origen=[0, 0], color='b', label=None):\n",
    "    \"\"\"\n",
    "    Dibuja un vector en un sistema de coordenadas.\n",
    "\n",
    "    Parámetros:\n",
    "    - vector: Lista o array de dos elementos que representan las coordenadas del vector.\n",
    "    - origen: Lista o array de dos elementos que representan las coordenadas del origen del vector.\n",
    "    - color: Color del vector en el gráfico (por defecto, azul).\n",
    "    - label: Etiqueta del vector para agregar al gráfico (opcional).\n",
    "    \"\"\"\n",
    "    pl.quiver(*origen, *vector, color=color, angles='xy', scale_units='xy', scale=1, label=label)\n",
    "    pl.xlim(-1, max(1, vector[0] + origen[0]))\n",
    "    pl.ylim(-1, max(1, vector[1] + origen[1]))\n",
    "\n",
    "    if label:\n",
    "        pl.text(origen[0] + vector[0], origen[1] + vector[1], label, fontsize=12, color=color)\n",
    "\n",
    "    pl.xlabel('Eje X')\n",
    "    pl.ylabel('Eje Y')\n",
    "    pl.axhline(0, color='black',linewidth=0.5)\n",
    "    pl.axvline(0, color='black',linewidth=0.5)\n",
    "    pl.grid(color = 'gray', linestyle = '--', linewidth = 0.5)\n",
    "    pl.legend()\n",
    "    pl.show()"
   ]
  },
  {
   "cell_type": "code",
   "execution_count": 6,
   "metadata": {
    "colab": {
     "base_uri": "https://localhost:8080/",
     "height": 463
    },
    "executionInfo": {
     "elapsed": 1048,
     "status": "ok",
     "timestamp": 1698023171451,
     "user": {
      "displayName": "JOHN FREDY SUAREZ PEREZ",
      "userId": "07610715876772400534"
     },
     "user_tz": 300
    },
    "id": "3QqfbE5pZH99",
    "outputId": "7814023f-70f4-450f-ffa9-050a63b52e36",
    "tags": []
   },
   "outputs": [
    {
     "data": {
      "image/png": "[encoded data removed]",
      "text/plain": [
       "<Figure size 640x480 with 1 Axes>"
      ]
     },
     "metadata": {},
     "output_type": "display_data"
    }
   ],
   "source": [
    "vector_ejemplo = np.array([2, 3])\n",
    "origen_ejemplo = np.array([1, 1])\n",
    "dibujar_vector(vector_ejemplo, origen=origen_ejemplo, color='r', label='Vector de Ejemplo')"
   ]
  },
  {
   "cell_type": "markdown",
   "metadata": {
    "id": "CGszyVrXmmZy"
   },
   "source": [
    "##### **Operaciones con vectores**"
   ]
  },
  {
   "cell_type": "markdown",
   "metadata": {
    "id": "W6avMo-ylJEX"
   },
   "source": [
    "##### **Suma de vectores**\n",
    "\n",
    "La suma de dos vectores $A$ y $B$ se realiza componente a componente. Si tienes dos vectores en $R^n$ representados como $\\vec{A} = [a_1,a_2,\\dots,a_n]$ y\n",
    "$\\vec{B} = [b_1,b_2,\\dots,b_n]$, entonces la suma $\\vec{C}$ de $\\vec{A}$ y $\\vec{B}$ es:\n",
    "\n",
    "$$\\vec{C} = [a_1+b_1,a_2+b_2,\\dots,a_n+b_n]$$\n",
    "\n",
    "\n",
    "Para poder sumar dos o más vectores se debe cumplir una condición, las dimensiones deben ser iguales, por lo tanto, los vectores que se están sumando deben tener la misma dimensión. Es decir, deben tener el mismo número de componentes.\n",
    "\n",
    "Una de las propiedades de la suma de vectores es que es una operación conmutativa, lo que significa que $\\vec{A}+\\vec{B}=\\vec{B}+\\vec{A}$. También es asociativa, lo que significa que $(\\vec{A}+\\vec{B})+\\vec{C}=\\vec{A}+(\\vec{B}+\\vec{C})$.\n",
    "\n",
    "Finalmente, otra de las propiedades de los vectores, es el vector cero $\\vec{0} = [0,0,\\dots,0]$ tal que $\\vec{A}+ \\vec{0} = \\vec{A}$, para cualquier vector\n",
    "$\\vec{A}$.\n",
    "\n",
    "\n",
    "Supongamos que se tienen los vectores $\\vec{A}=[2,3]$ y $B=[1,−1]$. La suma de estos vectores sería:\n",
    "\n",
    "$$\\vec{C} = [2+1 ,3-1] = [3,2]$$\n",
    "\n",
    "En Python se haría de la siguiente forma:"
   ]
  },
  {
   "cell_type": "code",
   "execution_count": 7,
   "metadata": {
    "colab": {
     "base_uri": "https://localhost:8080/"
    },
    "executionInfo": {
     "elapsed": 225,
     "status": "ok",
     "timestamp": 1698015981822,
     "user": {
      "displayName": "JOHN FREDY SUAREZ PEREZ",
      "userId": "07610715876772400534"
     },
     "user_tz": 300
    },
    "id": "BOokQgttoLRj",
    "outputId": "5a49554f-58ec-4d72-acf0-8dcbd72274ea",
    "tags": []
   },
   "outputs": [
    {
     "name": "stdout",
     "output_type": "stream",
     "text": [
      "[3 2]\n"
     ]
    }
   ],
   "source": [
    "A = np.array([2,3])\n",
    "B = np.array([1,-1])\n",
    "\n",
    "C = A+B\n",
    "print(C)"
   ]
  },
  {
   "cell_type": "markdown",
   "metadata": {
    "id": "M8we6WX6DDbZ"
   },
   "source": [
    "Graficamente la suma de dos vectores sigue la secuencia cabeza-cola, utilizando la función `dibujar_suma_de_vectores()` vemos como se suman gráficamente dos vectores. Utilizando"
   ]
  },
  {
   "cell_type": "code",
   "execution_count": 8,
   "metadata": {
    "executionInfo": {
     "elapsed": 371,
     "status": "ok",
     "timestamp": 1698023382428,
     "user": {
      "displayName": "JOHN FREDY SUAREZ PEREZ",
      "userId": "07610715876772400534"
     },
     "user_tz": 300
    },
    "id": "on9vTURKEiRA",
    "tags": []
   },
   "outputs": [],
   "source": [
    "def dibujar_suma_de_vectores(v1, v2):\n",
    "    \"\"\"\n",
    "    Dibuja la suma de dos vectores.\n",
    "    \"\"\"\n",
    "\n",
    "    # Suma de vectores\n",
    "    v_suma = np.array(v1) + np.array(v2)\n",
    "\n",
    "    # Crear la figura y los ejes\n",
    "    fig, ax = pl.subplots()\n",
    "\n",
    "    # Dibujar el vector 1\n",
    "    ax.quiver(0, 0, v1[0], v1[1], angles='xy', scale_units='xy', scale=1, color='r', label='Vector 1')\n",
    "\n",
    "    # Dibujar el vector 2\n",
    "    ax.quiver(v1[0], v1[1], v2[0], v2[1], angles='xy', scale_units='xy', scale=1, color='b', label='Vector 2')\n",
    "\n",
    "    # Dibujar la suma de vectores\n",
    "    ax.quiver(0, 0, v_suma[0], v_suma[1], angles='xy', scale_units='xy', scale=1, color='g', label='Suma de Vectores')\n",
    "\n",
    "    # Configuración del gráfico\n",
    "    ax.set_xlim(0, max(v1[0], v2[0], v_suma[0]) + 1)\n",
    "    ax.set_ylim(0, max(v1[1], v2[1], v_suma[1]) + 1)\n",
    "    ax.set_aspect('equal', adjustable='box')\n",
    "    ax.grid(True)\n",
    "    ax.legend()\n",
    "\n",
    "    # Mostrar el gráfico\n",
    "    pl.show()"
   ]
  },
  {
   "cell_type": "code",
   "execution_count": 9,
   "metadata": {
    "colab": {
     "base_uri": "https://localhost:8080/",
     "height": 349
    },
    "executionInfo": {
     "elapsed": 831,
     "status": "ok",
     "timestamp": 1698023394309,
     "user": {
      "displayName": "JOHN FREDY SUAREZ PEREZ",
      "userId": "07610715876772400534"
     },
     "user_tz": 300
    },
    "id": "42ko52HxDTmC",
    "outputId": "1dc7b8f6-945e-4fb5-a2f5-f252179b995a",
    "tags": []
   },
   "outputs": [
    {
     "data": {
      "image/png": "[encoded data removed]",
      "text/plain": [
       "<Figure size 640x480 with 1 Axes>"
      ]
     },
     "metadata": {},
     "output_type": "display_data"
    }
   ],
   "source": [
    "v1 = [2, 3]\n",
    "v2 = [4, -1]\n",
    "dibujar_suma_de_vectores(v1, v2)"
   ]
  },
  {
   "cell_type": "markdown",
   "metadata": {
    "id": "BT8nTOrsp6Xf"
   },
   "source": [
    "##### **Producto por escalar**\n",
    "\n",
    "El producto de un escalar $k$ por un vector $\\vec{A}$, también llamado producto punto, es otra de las operaciones fundamentales de los vectores. Suponiendo que se tienen el vector $\\vec{A} = [a_1,a_2,\\dots,a_n]$ y\n",
    "un escalar $k$, el producto por escalar  $\\vec{W} = k \\cdot \\vec{A}$, tiene la forma:\n",
    "\n",
    "$$\\vec{W} = k \\cdot \\vec{A} = [k\\cdot a_1,k \\cdot a_2,\\dots, k\\cdot a_n]$$\n",
    "\n",
    "Es decir, el escalar $k$ opera sobre cada uno de los elementos del vector $\\vec{A}$.\n",
    "\n",
    "Supongamos que se tienen el vector $\\vec{A}=[2,3]$ y el escalar $k=2$. El producto punto $k\\cdot \\vec{A}$ es:\n",
    "$$\\vec{W} = [2\\cdot 2, 2 \\cdot 3] = [4,6]$$\n",
    "\n",
    "\n",
    "En Python se haría de la siguiente forma:"
   ]
  },
  {
   "cell_type": "code",
   "execution_count": 10,
   "metadata": {
    "colab": {
     "base_uri": "https://localhost:8080/"
    },
    "executionInfo": {
     "elapsed": 203,
     "status": "ok",
     "timestamp": 1698016425144,
     "user": {
      "displayName": "JOHN FREDY SUAREZ PEREZ",
      "userId": "07610715876772400534"
     },
     "user_tz": 300
    },
    "id": "o5Aomffzo90q",
    "outputId": "f74bfa4e-0a93-4676-ad55-ff10a2d37eda",
    "tags": []
   },
   "outputs": [
    {
     "name": "stdout",
     "output_type": "stream",
     "text": [
      "[4 6]\n"
     ]
    }
   ],
   "source": [
    "A = np.array([2,3])\n",
    "k = 2\n",
    "\n",
    "W = k*A\n",
    "print(W)"
   ]
  },
  {
   "cell_type": "markdown",
   "metadata": {
    "id": "Ji0TQlEOGvQg"
   },
   "source": [
    "#### **2.1.1.3 Matrices**\n",
    "\n",
    "Una matriz es una estructura matemática que se utiliza para organizar y representar datos en forma de una tabla rectangular compuesta por filas y columnas. Cada elemento de una matriz se encuentra en una posición específica definida por su fila y columna. Las matrices son fundamentales en diversas áreas de las matemáticas, la física, la ingeniería, la informática y muchas otras disciplinas.\n",
    "\n",
    "\n",
    "La matriz $A$ de tamaño $m \\times n$ se representa así,\n",
    "\n",
    "$$\\begin{equation} A_{m \\times n} = \\begin{vmatrix} a_{1,1} & a_{1,2} & \\cdots & a_{1,n} \\\\  a_{2,1} & a_{2,2} & \\cdots & a_{2,n}\\\\ \\cdots & \\cdots & \\ddots &  \\cdots \\\\  a_{m,1} & a_{m,2} & \\cdots & a_{m,n}\\\\ \\end{vmatrix} \\end{equation} $$\n"
   ]
  },
  {
   "cell_type": "markdown",
   "metadata": {
    "id": "zYjfIhPWIzCj"
   },
   "source": [
    "Los componentes de una matriz son:\n",
    "\n",
    "**Filas y Columnas:** Una matriz se organiza en filas y columnas. Cada fila contiene elementos dispuestos horizontalmente, y cada columna contiene elementos dispuestos verticalmente, en el ejemplo anterior, la matriz $A$ tiene $m$ filas y $n$ columnas.\n",
    "\n",
    "\n",
    "**Elementos:** Los elementos individuales de una matriz se denotan con letras minúsculas y subíndices para indicar su posición en la matriz. Por ejemplo, $a_{i,j}$ representa el elemento en la fila $i$ y la columna $j$ de la matriz.\n",
    "\n",
    "\n",
    "**Dimensión:** La dimensión de una matriz se describe mediante dos números: el número de filas ($m$) y el número de columnas ($n$). Por ejemplo, una matriz 3x2 tiene 3 filas y 2 columnas.\n",
    "\n",
    "\n",
    "**Matriz Cuadrada:** Una matriz cuadrada es aquella en la que el número de filas es igual al número de columnas, es decir, $ m = n $.\n",
    "\n",
    "**Matriz Identidad:** Es una matriz cuadrada en la que todos los elementos de la diagonal principal son iguales a $1$ y los demás elementos son iguales a 0. Se denomina comúnmente como $I$ o $I_n$ para una matriz de tamaño $n \\times n$.\n",
    "\n",
    "La matriz $I$ de tamaño $4 \\times 4$, es un ejemplo de una matriz identidad.\n",
    "\n",
    "$$\\begin{equation} I =  \\begin{vmatrix} 1 & 0 & 0 & 0\\\\ 0 & 1 & 0 &  0 \\\\ 0 & 0 & 1 & 0 \\\\  0 & 0 & 0 & 1\\\\ \\end{vmatrix} \\end{equation} $$\n",
    "\n"
   ]
  },
  {
   "cell_type": "code",
   "execution_count": 11,
   "metadata": {
    "colab": {
     "base_uri": "https://localhost:8080/"
    },
    "executionInfo": {
     "elapsed": 306,
     "status": "ok",
     "timestamp": 1698016474586,
     "user": {
      "displayName": "JOHN FREDY SUAREZ PEREZ",
      "userId": "07610715876772400534"
     },
     "user_tz": 300
    },
    "id": "fO3uuSyKGIt9",
    "outputId": "f24d040b-9d81-41ac-c9d9-63cc558fd038",
    "tags": []
   },
   "outputs": [
    {
     "data": {
      "text/plain": [
       "array([[1., 0., 0., 0.],\n",
       "       [0., 1., 0., 0.],\n",
       "       [0., 0., 1., 0.],\n",
       "       [0., 0., 0., 1.]])"
      ]
     },
     "execution_count": 11,
     "metadata": {},
     "output_type": "execute_result"
    }
   ],
   "source": [
    "I = np.identity(4)\n",
    "I"
   ]
  },
  {
   "cell_type": "markdown",
   "metadata": {
    "id": "P0ynUiU1Nl0k"
   },
   "source": [
    "#### **2.1.1.4 Aplicaciones de las matrices**\n",
    "\n",
    "Las matrices tienen una amplia variedad de aplicaciones en la resolución de sistemas de ecuaciones lineales, en la representación de transformaciones lineales, en la estadística, en la programación de computadoras y en muchas otras áreas. Son una herramienta esencial en álgebra lineal y se utilizan en campos como la geometría, la física, la informática gráfica, la ingeniería y el análisis de datos.\n"
   ]
  },
  {
   "cell_type": "markdown",
   "metadata": {
    "id": "na1CJXEcPhZd"
   },
   "source": [
    "##### **Operaciones Matriciales**\n",
    "\n",
    "Las matrices se pueden sumar, restar y multiplicar por escalares. También se pueden multiplicar entre sí, pero las reglas para la multiplicación de matrices dependen de sus dimensiones."
   ]
  },
  {
   "cell_type": "markdown",
   "metadata": {
    "id": "hOEWaGKVj9nB"
   },
   "source": [
    "##### **Suma de Vectores**\n",
    "\n",
    "Al igual que con los vectores, las matrices se pueden sumar. El proceso es el mismo que con los vectores, la suma se hace componente a componente.\n",
    "\n",
    "$$\\begin{split}\\vec{A} + \\vec{B} =\n",
    "\\begin{vmatrix}\n",
    "    a_{11} & \\cdots & a_{1k} \\\\\n",
    "    \\vdots & \\vdots & \\vdots \\\\\n",
    "    a_{n1} & \\cdots & a_{nk} \\\\\n",
    "\\end{vmatrix}\n",
    "+\n",
    "\\begin{vmatrix}\n",
    "    b_{11} & \\cdots & b_{1k} \\\\\n",
    "    \\vdots & \\vdots & \\vdots \\\\\n",
    "    b_{n1} & \\cdots & b_{nk} \\\\\n",
    "\\end{vmatrix}\n",
    "=\n",
    "\\begin{vmatrix}\n",
    "    a_{11} + b_{11} &  \\cdots & a_{1k} + b_{1k} \\\\\n",
    "    \\vdots & \\vdots & \\vdots \\\\\n",
    "    a_{n1} + b_{n1} &  \\cdots & a_{nk} + b_{nk} \\\\\n",
    "\\end{vmatrix}\n",
    "\\end{split}$$\n",
    "\n",
    "\n",
    "Por ejemplo, si se tienen las matrices\n",
    "$$ \\vec{A} =\n",
    "\\begin{vmatrix}\n",
    "    1 & 2 \\\\\n",
    "    -1 & -2 \\\\\n",
    "\\end{vmatrix}\n",
    "$$\n",
    "y\n",
    "$$\n",
    "\\vec{B} =\n",
    "\\begin{vmatrix}\n",
    "    -1 & 3 \\\\\n",
    "    -1 & 2 \\\\\n",
    "\\end{vmatrix}$$\n",
    "\n",
    "La suma $\\vec{C} = \\vec{A}+\\vec{B}$ es:\n",
    "\n",
    "$$\n",
    "\\vec{C} =\n",
    "\\begin{vmatrix}\n",
    "    1-1 & 2+3 \\\\\n",
    "    -1-1 & -2+2 \\\\\n",
    "\\end{vmatrix}\n",
    "=\n",
    "\\begin{vmatrix}\n",
    "    0 & 5 \\\\\n",
    "    -2 & 0 \\\\\n",
    "\\end{vmatrix}\n",
    "$$\n",
    "\n",
    "En Python la operación se haría de la siguiente forma:"
   ]
  },
  {
   "cell_type": "code",
   "execution_count": 12,
   "metadata": {
    "colab": {
     "base_uri": "https://localhost:8080/"
    },
    "executionInfo": {
     "elapsed": 5,
     "status": "ok",
     "timestamp": 1698017539355,
     "user": {
      "displayName": "JOHN FREDY SUAREZ PEREZ",
      "userId": "07610715876772400534"
     },
     "user_tz": 300
    },
    "id": "W8T2Q9WRugzy",
    "outputId": "379be955-bf86-4876-e50e-2f123d890a47",
    "tags": []
   },
   "outputs": [
    {
     "name": "stdout",
     "output_type": "stream",
     "text": [
      "[[ 0  5]\n",
      " [-2  0]]\n"
     ]
    }
   ],
   "source": [
    "A = np.array([[1,2],[-1,-2]])\n",
    "B = np.array([[-1,3],[-1,2]])\n",
    "\n",
    "C = A + B\n",
    "print(C)"
   ]
  },
  {
   "cell_type": "markdown",
   "metadata": {
    "id": "SF7B1Le5PlrO"
   },
   "source": [
    "##### **Producto por escalar**\n",
    "\n",
    "Tal como aplica la operación de producto por escalar con los vectores, en la multiplicación de matrices por escalares, el escalar opera sobre cada uno de los elementos de la matriz, así:\n",
    "\n",
    "$$\\begin{split}\\vec{W} = k \\cdot \\begin{vmatrix}\n",
    "    a_{11} &  \\cdots & a_{1k} \\\\\n",
    "    \\vdots & \\vdots  & \\vdots \\\\\n",
    "    a_{n1} &  \\cdots & a_{nk} \\\\\n",
    "\\end{vmatrix}\n",
    ":=\n",
    "\\begin{vmatrix}\n",
    "    k \\cdot a_{11} & \\cdots & k\\cdot a_{1k} \\\\\n",
    "    \\vdots & \\vdots & \\vdots \\\\\n",
    "    k \\cdot a_{n1} & \\cdots & k\\cdot a_{nk} \\\\\n",
    "\\end{vmatrix}\n",
    "\\end{split}$$\n",
    "\n",
    "Por ejemplo, si se tiene la matriz\n",
    "$$ \\vec{A} =\n",
    "\\begin{vmatrix}\n",
    "    1 & 2 \\\\\n",
    "    -1 & -2 \\\\\n",
    "\\end{vmatrix}\n",
    "$$\n",
    "y el escalar $k=3$, el producto por escalar $\\vec{W} = k\\cdot \\vec{A}$ es:\n",
    "\n",
    "$$ k \\cdot \\vec{A} =\n",
    "\\begin{vmatrix}\n",
    "    3\\cdot 1 & 3\\cdot 2 \\\\\n",
    "    3\\cdot(-1) & 3\\cdot(-2) \\\\\n",
    "\\end{vmatrix}\n",
    "=\n",
    "\\begin{vmatrix}\n",
    "    3 & 6 \\\\\n",
    "    -3 & -6 \\\\\n",
    "\\end{vmatrix}\n",
    "$$\n",
    "\n",
    "En Python la operación se haría de la siguiente forma:"
   ]
  },
  {
   "cell_type": "code",
   "execution_count": 13,
   "metadata": {
    "colab": {
     "base_uri": "https://localhost:8080/"
    },
    "executionInfo": {
     "elapsed": 7,
     "status": "ok",
     "timestamp": 1698018053260,
     "user": {
      "displayName": "JOHN FREDY SUAREZ PEREZ",
      "userId": "07610715876772400534"
     },
     "user_tz": 300
    },
    "id": "FhVWWn7XOcit",
    "outputId": "919d4e7c-b129-42f8-d227-855f6c8e5b01"
   },
   "outputs": [
    {
     "name": "stdout",
     "output_type": "stream",
     "text": [
      "[[ 3  6]\n",
      " [-3 -6]]\n"
     ]
    }
   ],
   "source": [
    "A = np.array([[1,2],[-1,-2]])\n",
    "k = 3\n",
    "\n",
    "W = k *A\n",
    "print(W)"
   ]
  },
  {
   "cell_type": "markdown",
   "metadata": {
    "id": "9FuDpI0AwuDX"
   },
   "source": [
    "Para los casos de suma, hay que tener en cuenta que solo se pueden sumar matrices que tengan las mismas dimensiones, es decir, que si tengo una matriz $\\vec{A}$ de dimensión $3\\times2$ ($3$ filas y $2$ columnas) solo voy a poder sumar la matriz $\\vec{B}$ si esta también tiene 3 filas y 2 columnas."
   ]
  },
  {
   "cell_type": "markdown",
   "metadata": {
    "id": "jslIuQas_hpB"
   },
   "source": [
    "##### **Producto entre matrices**\n",
    "\n",
    "El producto de matrices es una operación fundamental en álgebra lineal. Para multiplicar dos matrices \\vec{A}$ y \\vec{B}, el número de columnas en\n",
    "$\\vec{A}$ debe ser igual al número de filas en $\\vec{B}$. El resultado es una nueva matriz $\\vec{C}$ cuyas dimensiones son el número de filas de $\\vec{A}$ por el número de columnas de $\\vec{B}$.\n",
    "\n",
    "\n",
    "Dadas dos matrices $\\vec{A}$ y $\\vec{B}$ con dimensiones $m\\times n$ y $n\\times p$ respectivamente, el producto $\\vec{C}$ se define como:\n",
    "\n",
    "$$\n",
    "\\vec{C} = A \\cdot B\n",
    "$$\n",
    "\n",
    "Donde:\n",
    "\n",
    "$$\n",
    "C_{ij} = \\sum_{k=1}^{n} A_{ik}\\cdot B_{kj}\n",
    "$$\n",
    "\n",
    "Esto significa que cada elemento $C_{ij}$ de la matriz resultante es la suma de los productos de los elementos correspondientes de la fila $i$ de $\\vec{A}$ por la columna $j$ de $\\vec{B}$.\n",
    "\n",
    "Por ejemplo, si se consideran las matrices:\n",
    "\n",
    "$$ \\vec{A} =\n",
    "\\begin{vmatrix}\n",
    "    2 & 3 \\\\\n",
    "    1 & 4 \\\\\n",
    "\\end{vmatrix}\n",
    "$$\n",
    "y\n",
    "$$\n",
    "\\vec{B} =\n",
    "\\begin{vmatrix}\n",
    "    5 & 1 \\\\\n",
    "    2 & 6 \\\\\n",
    "\\end{vmatrix}$$\n",
    "\n",
    "El producto $\\vec{C} = \\vec{A}\\cdot \\vec{B}$ sería:\n",
    "\n",
    "$$\n",
    "\\vec{C} = \\vec{A}\\cdot \\vec{B} =\n",
    "\\begin{vmatrix}\n",
    "    (2\\cdot 5 + 3 \\cdot 2) & (2\\cdot 1 + 3\\cdot 6) \\\\\n",
    "    (1\\cdot 5 + 4 \\cdot 2) & (1\\cdot 1 + 4\\cdot 6) \\\\\n",
    "\\end{vmatrix}$$\n",
    "\n",
    "Simplificando\n",
    "\n",
    "$$\n",
    "\\vec{C} = \\vec{A}\\cdot \\vec{B} =\n",
    "\\begin{vmatrix}\n",
    "    16 & 20 \\\\\n",
    "    13 & 25 \\\\\n",
    "\\end{vmatrix}$$\n",
    "\n",
    "En Python se haría de la siguiente forma:"
   ]
  },
  {
   "cell_type": "code",
   "execution_count": 14,
   "metadata": {
    "colab": {
     "base_uri": "https://localhost:8080/"
    },
    "executionInfo": {
     "elapsed": 201,
     "status": "ok",
     "timestamp": 1698021920598,
     "user": {
      "displayName": "JOHN FREDY SUAREZ PEREZ",
      "userId": "07610715876772400534"
     },
     "user_tz": 300
    },
    "id": "2F0lFJe8_jPj",
    "outputId": "92fcd0a9-46ce-473b-972f-a480ee7a3759"
   },
   "outputs": [
    {
     "name": "stdout",
     "output_type": "stream",
     "text": [
      "[[16 20]\n",
      " [13 25]]\n"
     ]
    }
   ],
   "source": [
    "A = np.array([[2, 3], [1, 4]])\n",
    "B = np.array([[5, 1], [2, 6]])\n",
    "\n",
    "C = np.dot(A, B)  # o simplemente C = A @ B\n",
    "\n",
    "print(C)"
   ]
  },
  {
   "cell_type": "markdown",
   "metadata": {
    "id": "UF2qADuczrSS"
   },
   "source": [
    "##### **Determinante de una matriz**\n",
    "\n",
    "La determinante de una matriz es una medida numérica que se asocia con una matriz cuadrada, y se denota comúnmente como $det(\\vec{A})$. La determinante proporciona información sobre las propiedades geométricas y algebraicas de la matriz.\n",
    "\n",
    "Dada una matriz cuadrada $\\vec{A}$ de orden $n\\times n$, la determinante\n",
    "$det(\\vec{A})$, se calcula como una suma ponderada de productos de elementos de la matriz de acuerdo con una regla específica.\n",
    "\n",
    "Para una matriz $\\vec{A}$ de $2\\times2$,\n",
    "\n",
    "$$\\vec{A} =\n",
    "\\begin{vmatrix}\n",
    "  a & b \\\\\n",
    "  c & d \\\\\n",
    "\\end{vmatrix}\n",
    "$$\n",
    "su determinante es\n",
    "$$det (\\vec{A}) = ad - bc$$\n",
    "\n",
    "Para matrices de orden superior, se utilizan reglas más generales que involucran submatrices.\n",
    "\n",
    "En el caso de una matriz $\\vec{A}$ de $3\\times 3$\n",
    "\n",
    "$$\\vec{A} =\n",
    "\\begin{vmatrix}\n",
    "  a & b & c\\\\\n",
    "  d & e & f\\\\\n",
    "  g & h & i\\\\\n",
    "\\end{vmatrix}\n",
    "$$\n",
    "\n",
    "su determinante es\n",
    "$$det (\\vec{A}) = a(ei-fh) - b(di-fg)+c(dh-eg)$$\n",
    "\n",
    "\n",
    "Por ejemplo, si se tiene la matriz $2\\times2$\n",
    "$$ \\vec{A} =\n",
    "\\begin{vmatrix}\n",
    "    1 & 2 \\\\\n",
    "    -1 & -2 \\\\\n",
    "\\end{vmatrix}\n",
    "$$\n",
    "su determinante será:\n",
    "\n",
    "$$ det(\\vec{A}) = 1\\cdot (-2) - 2\\cdot(-1)= -2 + 2 = 0$$\n",
    "\n",
    "En Python la operación se haría de la siguiente forma:"
   ]
  },
  {
   "cell_type": "code",
   "execution_count": 15,
   "metadata": {
    "colab": {
     "base_uri": "https://localhost:8080/"
    },
    "executionInfo": {
     "elapsed": 226,
     "status": "ok",
     "timestamp": 1698019621044,
     "user": {
      "displayName": "JOHN FREDY SUAREZ PEREZ",
      "userId": "07610715876772400534"
     },
     "user_tz": 300
    },
    "id": "5fcUZyoh2PGk",
    "outputId": "7d549326-7dc4-470a-c264-ab05580e15c9"
   },
   "outputs": [
    {
     "name": "stdout",
     "output_type": "stream",
     "text": [
      "0.0\n"
     ]
    }
   ],
   "source": [
    "A = np.array([[1,2],[-1,-2]])\n",
    "\n",
    "det_A = np.linalg.det(A)\n",
    "print(det_A)"
   ]
  },
  {
   "cell_type": "markdown",
   "metadata": {
    "id": "2CEV04Nm20C5"
   },
   "source": [
    "Por otro lado, si se tiene la matriz $3\\times3$\n",
    "$$ \\vec{A} =\n",
    "\\begin{vmatrix}\n",
    "    1 & 2 & 2 \\\\\n",
    "    -1 & -2 & 3\\\\\n",
    "    4 & 1 & -1 \\\\\n",
    "\\end{vmatrix}\n",
    "$$\n",
    "su determinante será:\n",
    "\n",
    "$$ \\begin{eqnarray}\n",
    "det(\\vec{A}) = 1[(-2)(-1)-(3)(1)]- 2[(-1)(-1)-(3)(4)]+2[(-1)(1)-(-2)(4)] \\\\\n",
    "det(\\vec{A}) = 1[2-3]- 2[1-12]+2[-1+8] \\\\\n",
    "det(\\vec{A}) = -1 +22 + 14 \\\\\n",
    "det(\\vec{A}) = 35 \\\\\n",
    "\\end{eqnarray}$$\n",
    "\n",
    "En Python la operación se haría de la siguiente forma:"
   ]
  },
  {
   "cell_type": "code",
   "execution_count": 16,
   "metadata": {
    "colab": {
     "base_uri": "https://localhost:8080/"
    },
    "executionInfo": {
     "elapsed": 5,
     "status": "ok",
     "timestamp": 1698019975382,
     "user": {
      "displayName": "JOHN FREDY SUAREZ PEREZ",
      "userId": "07610715876772400534"
     },
     "user_tz": 300
    },
    "id": "OYQZnapu39UD",
    "outputId": "06f0e560-427b-44c3-96aa-0a24de584bd4"
   },
   "outputs": [
    {
     "name": "stdout",
     "output_type": "stream",
     "text": [
      "34.99999999999999\n"
     ]
    }
   ],
   "source": [
    "A = np.array([ [1,2,2], [-1,-2,3], [4,1,-1] ])\n",
    "\n",
    "det_A = np.linalg.det(A)\n",
    "print(det_A)"
   ]
  },
  {
   "cell_type": "markdown",
   "metadata": {
    "id": "Kbtjr1ECx1sW"
   },
   "source": [
    "#### **2.1.1.5 Autovalores y Autovectores**\n",
    "\n",
    "Los autovalores (o valores propios) y autovectores (o vectores propios) son conceptos fundamentales en álgebra lineal y tienen aplicaciones en diversas áreas, incluyendo el análisis de sistemas lineales y la diagonalización de matrices. En el campo de la inteligencia artificial (IA) tienen multiples aplicaciones.\n",
    "\n",
    "1. *Reducción de Dimensionalidad:*\n",
    "En técnicas como el Análisis de Componentes Principales (PCA), los autovectores representan las direcciones principales de variación en los datos. Al proyectar datos en estas direcciones, se logra una reducción de dimensionalidad manteniendo la mayor cantidad posible de información.\n",
    "\n",
    "2. *Análisis de Redes y Grafos:*\n",
    "En la teoría de grafos y en el análisis de redes, los autovalores y autovectores se utilizan para comprender la estructura y la centralidad de los nodos en la red.\n",
    "\n",
    "3. *Machine Learning No Supervisado:*\n",
    "En algoritmos de aprendizaje no supervisado, como el clustering espectral, los autovalores y autovectores son esenciales para analizar la estructura y las relaciones entre los datos.\n",
    "\n",
    "4. *Redes Neuronales:*\n",
    "En el entrenamiento de redes neuronales, especialmente en la propagación hacia atrás, los gradientes pueden ser calculados eficientemente utilizando propiedades de los autovalores y autovectores.\n"
   ]
  },
  {
   "cell_type": "markdown",
   "metadata": {
    "id": "kQ7fXhDty88M"
   },
   "source": [
    "##### **Autovalores**:\n",
    "\n",
    "Dada una matriz cuadrada $\\vec{A}$, un número $\\lambda$ es un autovalor de\n",
    "$\\vec{A}$ si existe un vector no nulo $\\vec{v}$ tal que $\\vec{A}\\vec{v}=\\lambda\\vec{v}$. En otras palabras, la acción de la matriz $\\vec{A}$ sobre el vector $\\vec{v}$ solo escala el vector por $\\vec{v}$. Para calcular los autovalores, resolvemos la ecuación característica\n",
    "$ det(\\vec{A}− \\lambda \\vec{I}) = 0$, donde $\\vec{I}$ es la matriz identidad.  La solución de esta ecuación proporciona los autovalores."
   ]
  },
  {
   "cell_type": "markdown",
   "metadata": {
    "id": "ZL5MzFLGz-No"
   },
   "source": [
    "##### **Autovectores**:\n",
    "\n",
    "Dado un autovalor $\\lambda$ de la matriz $\\vec{A}$, un vector no nulo\n",
    "$\\vec{v}$ es un autovector correspondiente a $\\lambda$ si $\\vec{A}\\vec{v}=\\lambda\\vec{v}$.\n",
    "\n",
    "Para calcular los autovectores, resolvemos el sistema de ecuaciones\n",
    "$(\\vec{A} - \\lambda \\vec{I})\\vec{v}=0$, donde $\\vec{v}$ es un vector no nulo. La solución de este sistema proporciona los autovectores correspondientes a los autovalores encontrados.\n",
    "\n",
    "Supongamos que tenemos la matriz:\n",
    "\n",
    "$$\n",
    "\\vec{A}=\n",
    "\\begin{vmatrix}\n",
    "3 & 2 \\\\\n",
    "1 & 4 \\\\\n",
    "\\end{vmatrix}\n",
    "$$\n",
    "\n",
    "Primero se deben calcular los autovalores. La ecuación característica es\n",
    "$det(\\vec{A} - \\lambda \\vec{I})=0$. Entonces:\n",
    "\n",
    "$$ det \\left(\n",
    "\\begin{vmatrix}\n",
    "3-\\lambda & 2 \\\\\n",
    "1 & 4-\\lambda \\\\\n",
    "\\end{vmatrix}\n",
    "  \\right) = 0\n",
    "  $$\n",
    "\n",
    "Esto nos da la ecuación característica:\n",
    "$(3 - \\lambda)(4 - \\lambda) - 2 = 0$\n",
    "\n",
    "Resolviendo, encontramos los autovalores\n",
    "\n",
    "$\\lambda_1=5$ y $\\lambda_2=2$\n",
    "\n",
    "Una vez calculados los autovalores, se calculan los autovectores. Para $\\lambda_1 = 5$, se resuelve $(\\vec{A}-5\\vec{I})=0$:\n",
    "\n",
    "$$\\begin{vmatrix}\n",
    "-2 & 2 \\\\\n",
    "1 & -1 \\\\\n",
    "\\end{vmatrix}\n",
    "\\begin{vmatrix}\n",
    "u_1 \\\\\n",
    "u_2 \\\\\n",
    "\\end{vmatrix}\n",
    "=\n",
    "\\begin{vmatrix}\n",
    "0 \\\\\n",
    "0 \\\\\n",
    "\\end{vmatrix}\n",
    "$$\n",
    "\n",
    "Esto nos lleva al sistema de ecuaciones, $-2 u_1 + 2 u_2 = 0$, es decir, $u_1=u_2$. Por lo tanto el autovector asociado a $\\lambda_1=5$ es:\n",
    "\n",
    "$$ v_1 =\n",
    "\\begin{vmatrix}\n",
    "1 \\\\\n",
    "1\\\\\n",
    "\\end{vmatrix}\n",
    "$$\n",
    "\n",
    "De modo que al operar $\\vec{A}\\vec{v_1} = \\lambda_1 \\vec{v1}$, así:\n",
    "\n",
    "$$\n",
    "\\begin{vmatrix}\n",
    "3 & 2 \\\\\n",
    "1 & 4 \\\\\n",
    "\\end{vmatrix}\n",
    "\\begin{vmatrix}\n",
    "1 \\\\\n",
    "1 \\\\\n",
    "\\end{vmatrix}\n",
    "=\n",
    "5 \\begin{vmatrix}\n",
    "1 \\\\\n",
    "1 \\\\\n",
    "\\end{vmatrix}\n",
    "$$\n",
    "\n",
    "$$\n",
    "\\begin{vmatrix}\n",
    "3\\cdot 1 + 2 \\cdot 1 \\\\\n",
    "1\\cdot 1 + 4\\cdot 1 \\\\\n",
    "\\end{vmatrix}\n",
    "=\n",
    "\\begin{vmatrix}\n",
    "5 \\\\\n",
    "5 \\\\\n",
    "\\end{vmatrix}\n",
    "$$\n",
    "\n",
    "$$\n",
    "\\begin{vmatrix}\n",
    "5 \\\\\n",
    "5 \\\\\n",
    "\\end{vmatrix}\n",
    "=\n",
    "\\begin{vmatrix}\n",
    "5 \\\\\n",
    "5 \\\\\n",
    "\\end{vmatrix}\n",
    "$$\n",
    "\n",
    "Queda en manos del lector demostrar que el vector asociado al autovalor $\\lambda_2=2$ es:\n",
    "\n",
    "$$ v_2 =\n",
    "\\begin{vmatrix}\n",
    "2 \\\\\n",
    "-1 \\\\\n",
    "\\end{vmatrix}\n",
    "$$\n",
    "\n",
    "Estos son los pasos básicos para calcular autovalores y autovectores. En la práctica, se pueden utilizar herramientas computacionales como Python así:"
   ]
  },
  {
   "cell_type": "code",
   "execution_count": 17,
   "metadata": {
    "colab": {
     "base_uri": "https://localhost:8080/"
    },
    "executionInfo": {
     "elapsed": 5,
     "status": "ok",
     "timestamp": 1698021490112,
     "user": {
      "displayName": "JOHN FREDY SUAREZ PEREZ",
      "userId": "07610715876772400534"
     },
     "user_tz": 300
    },
    "id": "QOJgoFxq6lXn",
    "outputId": "cd08acab-d4a0-4a9e-b5de-882bf2c89fa8"
   },
   "outputs": [
    {
     "name": "stdout",
     "output_type": "stream",
     "text": [
      "[2. 5.]\n",
      "[[-0.89442719 -0.70710678]\n",
      " [ 0.4472136  -0.70710678]]\n"
     ]
    }
   ],
   "source": [
    "A = np.array([ [3,2], [1,4] ])\n",
    "\n",
    "autovalores = np.linalg.eig(A)[0]\n",
    "print(autovalores)\n",
    "\n",
    "autovectores = np.linalg.eig(A)[1]\n",
    "print(autovectores)"
   ]
  },
  {
   "cell_type": "markdown",
   "metadata": {},
   "source": [
    "### **2.1.2 Conceptos Fundamentales del Cálculo**\n",
    "\n",
    "1. Derivadas:\n",
    "\n",
    "Las derivadas miden la tasa de cambio instantáneo de una función en relación con su variable independiente. En IA, las derivadas son cruciales para optimizar funciones, especialmente en algoritmos de aprendizaje automático que implican el ajuste de parámetros.\n",
    "2. Regla de la Cadena:\n",
    "\n",
    "La regla de la cadena se utiliza para calcular la derivada de la composición de dos o más funciones. En el aprendizaje automático, donde los modelos suelen ser composiciones de funciones, la regla de la cadena es esencial para calcular gradientes.\n",
    "3. Gradiente:\n",
    "\n",
    "El gradiente es un vector que apunta en la dirección de la mayor tasa de cambio de una función en un punto dado. En IA, el gradiente se usa en algoritmos de optimización, como el descenso de gradiente, para ajustar parámetros y minimizar funciones de pérdida.\n",
    "4. Integrales Definidas:\n",
    "\n",
    "Las integrales definidas se utilizan para calcular el área bajo una curva. En IA, las integrales pueden aparecer en problemas de probabilidad, como el cálculo de la probabilidad de eventos continuos.\n",
    "5. Teorema Fundamental del Cálculo:\n",
    "\n",
    "Este teorema establece la relación entre las derivadas y las integrales y es fundamental para comprender cómo se acumula el cambio en una función a lo largo de un intervalo. Se utiliza en problemas de optimización y modelado.\n",
    "6. Límites:\n",
    "\n",
    "Los límites se utilizan para describir el comportamiento de una función a medida que la variable de entrada se acerca a cierto valor. Los límites son esenciales para definir derivadas e integrales y comprenden la base del cálculo.\n",
    "7. Series Infinitas:\n",
    "\n",
    "Las series infinitas son sumas infinitas de términos y se utilizan para representar funciones. En cálculos numéricos en IA, las series pueden utilizarse para aproximar funciones y operaciones.\n",
    "8. Ecuaciones Diferenciales:\n",
    "\n",
    "Las ecuaciones diferenciales describen cómo cambian las funciones en función de sus tasas de cambio. En IA, las ecuaciones diferenciales pueden modelar dinámicas y cambios en el tiempo.\n",
    "9. Teorema del Valor Intermedio:\n",
    "\n",
    "Este teorema establece que si una función es continua en un intervalo cerrado, toma todos los valores intermedios entre el valor mínimo y máximo. Se utiliza en análisis de datos y optimización.\n",
    "10. Optimización:\n",
    "\n",
    "El cálculo es esencial en problemas de optimización, donde se busca encontrar los valores que minimizan o maximizan una función. Esto es común en el ajuste de modelos de aprendizaje automático.\n",
    "11. Máximos y Mínimos Locales:\n",
    "\n",
    "El cálculo se utiliza para encontrar máximos y mínimos locales de funciones, que son puntos críticos en optimización y análisis de algoritmos.\n",
    "12. Funciones Multivariables:\n",
    "\n",
    "En IA, donde se trabajan con datos multidimensionales, es esencial comprender cómo calcular derivadas e integrales para funciones con múltiples variables.\n",
    "\n",
    "Comprender estos conceptos de cálculo proporciona una base sólida para abordar problemas matemáticos y algorítmicos en inteligencia artificial. Estos conceptos son herramientas poderosas para entender el comportamiento de las funciones y optimizar modelos de aprendizaje automático."
   ]
  },
  {
   "cell_type": "markdown",
   "metadata": {
    "id": "vX8bB3IwO0KB"
   },
   "source": [
    "## **2.2 Estadística y probabilidad para IA**\n",
    "\n"
   ]
  },
  {
   "cell_type": "markdown",
   "metadata": {
    "id": "yN6BQq1MCbX4"
   },
   "source": [
    "### **2.2.1 Media y Desviación Estándar**\n",
    "\n",
    "La media es el promedio de un conjunto de datos y se calcula sumando todos los valores y dividiendo por el número de observaciones. Es fundamental para comprender la tendencia central de un conjunto de datos.\n",
    "\n",
    "La desviación estándar mide la dispersión de los datos con respecto a la media. Proporciona una idea de cuánto se alejan los valores individuales del valor promedio.\n"
   ]
  },
  {
   "cell_type": "markdown",
   "metadata": {
    "id": "z7j2-y0FCdRQ"
   },
   "source": [
    "### **2.2.2 Distribución Normal**\n",
    "\n",
    "La distribución normal, o campana de Gauss, es fundamental en estadísticas e IA. Muchos algoritmos asumen que los datos siguen una distribución normal. La característica clave de esta distribución es que la mayoría de los datos se encuentran cerca de la media, y la probabilidad de ocurrencia disminuye a medida que nos alejamos de la media.\n"
   ]
  },
  {
   "cell_type": "markdown",
   "metadata": {
    "id": "6ZyaN035CfAR"
   },
   "source": [
    "### **2.2.3 Probabilidad**\n",
    "\n",
    "La probabilidad es fundamental en estadísticas y aprendizaje automático. En IA, se utiliza para modelar la incertidumbre y tomar decisiones basadas en probabilidades.\n"
   ]
  },
  {
   "cell_type": "markdown",
   "metadata": {
    "id": "4PECTbmcCgPn"
   },
   "source": [
    "### **2.2.4 Inferencia Estadística**\n",
    "\n",
    "La inferencia estadística implica hacer afirmaciones sobre una población basándose en una muestra de datos. Métodos como la prueba de hipótesis y la estimación por intervalos son esenciales para tomar decisiones basadas en datos.\n",
    "\n"
   ]
  },
  {
   "cell_type": "markdown",
   "metadata": {
    "id": "EHkz00r-Chne"
   },
   "source": [
    "### **2.2.5 Regresión**\n",
    "\n",
    "La regresión estadística es utilizada en aprendizaje automático para modelar la relación entre variables. La regresión lineal, por ejemplo, encuentra la mejor línea de ajuste a través de los datos.\n",
    "\n"
   ]
  },
  {
   "cell_type": "markdown",
   "metadata": {
    "id": "R21mLR9FCi1s"
   },
   "source": [
    "### **2.2.6 Muestreo**\n",
    "\n",
    "El muestreo es la técnica de seleccionar un subconjunto de datos de una población más grande. En IA, a menudo se trabaja con conjuntos de datos de muestra para entrenar y evaluar modelos.\n"
   ]
  },
  {
   "cell_type": "markdown",
   "metadata": {
    "id": "gcA-R4qXCkDA"
   },
   "source": [
    "### **2.2.7 Correlación**\n",
    "\n",
    "La correlación mide la relación entre dos variables. Puede ser positiva (ambas variables aumentan juntas), negativa (una variable aumenta mientras la otra disminuye) o nula (no hay relación aparente).\n"
   ]
  },
  {
   "cell_type": "markdown",
   "metadata": {
    "id": "lIFkInoVClmj"
   },
   "source": [
    "### **2.2.8 Validación Cruzada**\n",
    "En aprendizaje automático, la validación cruzada es una técnica estadística que se utiliza para evaluar el rendimiento de un modelo. Ayuda a mitigar el riesgo de sobreajuste y proporciona una estimación más robusta del rendimiento del modelo.\n"
   ]
  },
  {
   "cell_type": "markdown",
   "metadata": {
    "id": "8euPhEf9Cm6s"
   },
   "source": [
    "### **2.2.9 Entropía y teoría de la información**\n",
    "En el contexto del aprendizaje automático, la entropía y la teoría de la información son conceptos clave para entender la incertidumbre y la cantidad de información que aportan diferentes variables."
   ]
  },
  {
   "cell_type": "markdown",
   "metadata": {
    "id": "fVpndMy-O6AL"
   },
   "source": [
    "## **2.3 Regresión lineal simple y polinomial**\n",
    "\n",
    "La regresión lineal simple y polinomial son técnicas de modelado que se utilizan en estadísticas y aprendizaje automático para describir la relación entre una variable independiente (predictora) y una variable dependiente (objetivo).\n",
    "\n"
   ]
  },
  {
   "cell_type": "markdown",
   "metadata": {
    "id": "Die9yY08FuY1"
   },
   "source": [
    "### **2.3.1 Regresión Lineal Simple**\n",
    "La regresión lineal simple modela la relación entre una variable independiente\n",
    "�\n",
    "x y una variable dependiente\n",
    "�\n",
    "y mediante una ecuación lineal de la forma:\n",
    "\n",
    "�\n",
    "=\n",
    "�\n",
    "�\n",
    "+\n",
    "�\n",
    "y=mx+b\n",
    "\n",
    "�\n",
    "y: Variable dependiente.\n",
    "�\n",
    "x: Variable independiente.\n",
    "�\n",
    "m: Pendiente de la línea.\n",
    "�\n",
    "b: Término de intersección (ordenada al origen).\n",
    "El objetivo de la regresión lineal simple es encontrar los valores de\n",
    "�\n",
    "m y\n",
    "�\n",
    "b que minimizan la diferencia entre los valores predichos y los valores reales de\n",
    "�\n",
    "y.\n",
    "\n",
    "Predicción de variables continuas.\n",
    "Análisis de tendencias a lo largo del tiempo.\n",
    "Modelado de relaciones lineales simples.\n"
   ]
  },
  {
   "cell_type": "markdown",
   "metadata": {
    "id": "TR_GP5VIGIzn"
   },
   "source": [
    "### **2.3.2 Regresión Polinomial**\n",
    "La regresión polinomial extiende la regresión lineal simple permitiendo modelos más complejos que incluyen términos polinomiales de grado superior. La ecuación general de la regresión polinomial es:\n",
    "\n",
    "�\n",
    "=\n",
    "�\n",
    "0\n",
    "+\n",
    "�\n",
    "1\n",
    "�\n",
    "+\n",
    "�\n",
    "2\n",
    "�\n",
    "2\n",
    "+\n",
    "…\n",
    "+\n",
    "�\n",
    "�\n",
    "�\n",
    "�\n",
    "y=β\n",
    "0\n",
    "​\n",
    " +β\n",
    "1\n",
    "​\n",
    " x+β\n",
    "2\n",
    "​\n",
    " x\n",
    "2\n",
    " +…+β\n",
    "n\n",
    "​\n",
    " x\n",
    "n\n",
    "\n",
    "\n",
    "�\n",
    "y: Variable dependiente.\n",
    "�\n",
    "x: Variable independiente.\n",
    "�\n",
    "0\n",
    ",\n",
    "�\n",
    "1\n",
    ",\n",
    "�\n",
    "2\n",
    ",\n",
    "…\n",
    ",\n",
    "�\n",
    "�\n",
    "β\n",
    "0\n",
    "​\n",
    " ,β\n",
    "1\n",
    "​\n",
    " ,β\n",
    "2\n",
    "​\n",
    " ,…,β\n",
    "n\n",
    "​\n",
    " : Coeficientes que se determinan mediante el ajuste del modelo.\n",
    "La regresión polinomial se adapta mejor a datos que no siguen una tendencia lineal simple. Puedes ajustar la complejidad del modelo eligiendo el grado del polinomio (\n",
    "�\n",
    "n)."
   ]
  },
  {
   "cell_type": "markdown",
   "metadata": {
    "id": "pI1k7R_9GPKk"
   },
   "source": [
    "### **2.3.3 Diferencias entre la regresión lineal y la regresión polinomica**\n",
    "\n",
    "**Complejidad del Modelo:**\n",
    "\n",
    "La regresión lineal simple asume una relación lineal directa entre\n",
    "�\n",
    "x e\n",
    "�\n",
    "y.\n",
    "La regresión polinomial permite relaciones no lineales y se adapta a patrones más complejos mediante la inclusión de términos polinomiales.\n",
    "\n",
    "\n",
    "**Ajuste a los Datos:**\n",
    "\n",
    "La regresión lineal simple es más adecuada para datos que siguen una tendencia lineal clara.\n",
    "La regresión polinomial es más flexible y puede adaptarse mejor a datos con patrones no lineales.\n",
    "\n",
    "\n",
    "**Número de Parámetros:**\n",
    "\n",
    "La regresión lineal simple tiene dos parámetros (\n",
    "�\n",
    "m y\n",
    "�\n",
    "b).\n",
    "La regresión polinomial tiene más parámetros, determinados por el grado del polinomio.\n",
    "\n",
    "\n",
    "\n",
    "\n",
    "\n",
    "Modelado de relaciones no lineales.\n",
    "Ajuste a datos que siguen patrones más complejos.\n",
    "Mayor flexibilidad en el modelado de fenómenos no lineales.\n",
    "\n",
    "\n",
    "Ambos tipos de regresión son herramientas poderosas para analizar y predecir relaciones entre variables. La elección entre regresión lineal simple y polinomial dependerá de la naturaleza de los datos y la complejidad de la relación subyacente."
   ]
  },
  {
   "cell_type": "markdown",
   "metadata": {
    "id": "i6B1FUNMO7Dq"
   },
   "source": [
    "\n",
    "## **2.4 Árboles de decisión: modelos, spaces y  soluciones especializadas**\n",
    "\n",
    "\n",
    "Los árboles de decisión son modelos de aprendizaje automático que se utilizan en inteligencia artificial para tomar decisiones basadas en condiciones lógicas."
   ]
  },
  {
   "cell_type": "markdown",
   "metadata": {
    "id": "2vJ39BYZOEog"
   },
   "source": [
    "### **2.4.1 Nodos y Hojas**\n",
    "\n",
    "**Nodo raíz**\n",
    "El nodo raíz es el primer nodo en un árbol de decisión. Representa la característica que se evalúa en la parte superior del árbol y guía el proceso de toma de decisiones.\n",
    "\n",
    "**Nodos Internos**\n",
    "Los nodos internos del árbol representan pruebas en características y dividen el conjunto de datos en subconjuntos más pequeños según las condiciones especificadas.\n",
    "\n",
    "**Hojas**\n",
    "Las hojas del árbol son los nodos terminales que representan las decisiones o predicciones finales. Cada hoja puede asociarse con una clase (en problemas de clasificación) o un valor numérico (en problemas de regresión).\n",
    "\n"
   ]
  },
  {
   "cell_type": "markdown",
   "metadata": {
    "id": "bHwfaWlGOAP-"
   },
   "source": [
    "### **2.4.2 Espacio de Características**\n",
    "El espacio de características es el conjunto de todas las posibles combinaciones de valores de las características en el conjunto de datos. El árbol de decisión divide este espacio en regiones más pequeñas mediante decisiones basadas en las características."
   ]
  },
  {
   "cell_type": "markdown",
   "metadata": {
    "id": "7LWfGysxObHY"
   },
   "source": [
    "### **2.4.3 Entrenamiento y Criterios de Decisión**\n",
    "\n",
    "Las soluciones o decisiones se toman en las hojas del árbol. Para un conjunto de características dado, el árbol guía a través de las pruebas hasta llegar a una hoja, donde se toma la decisión final.\n",
    "\n",
    "\n",
    "El entrenamiento del árbol de decisión implica dividir recursivamente el conjunto de datos en subconjuntos más pequeños basándose en las características más informativas. El proceso se detiene cuando se cumple un criterio de parada, como alcanzar una profundidad máxima o dividir hasta que cada hoja tenga un número mínimo de muestras.\n",
    "\n",
    "\n",
    "Los criterios de decisión, como la ganancia de información o la reducción de la impureza, se utilizan para determinar la mejor manera de dividir los datos en cada nodo interno del árbol."
   ]
  },
  {
   "cell_type": "markdown",
   "metadata": {
    "id": "oGwI2NOAOjMD"
   },
   "source": [
    "### **2.4.4 Sobreajuste**:\n",
    "El sobreajuste (en inglés, overfitting) ocurre cuando el árbol se ajusta demasiado a los datos de entrenamiento y no generaliza bien a nuevos datos. Se pueden aplicar técnicas como la poda del árbol para evitar el sobreajuste.\n",
    "\n",
    "### **2.4.5 Importancia de las Características:**\n",
    "Los árboles de decisión pueden proporcionar información sobre la importancia relativa de diferentes características en la toma de decisiones. Esto es útil para comprender qué características son más influyentes en un problema dado.\n",
    "\n",
    "### **2.4.6 Aplicaciones**\n",
    "Clasificación: Los árboles de decisión se utilizan para clasificar ejemplos en categorías.\n",
    "Regresión: Pueden utilizarse para predecir valores numéricos.\n",
    "Toma de Decisiones: Los árboles de decisión también se aplican en sistemas de recomendación y en problemas de toma de decisiones."
   ]
  },
  {
   "cell_type": "markdown",
   "metadata": {
    "id": "W1TbhTt7OzLz"
   },
   "source": [
    "### **2.4.7 Bosques Aleatorios  y Gradient Boosting**\n",
    "\n",
    "Los Bosques Aleatorios (Random Forests, inglés) y Gradient Boosting son extensiones de los árboles de decisión que combinan múltiples árboles para mejorar la precisión y generalización del modelo.\n",
    "\n",
    "Los árboles de decisión son herramientas versátiles y explicativas en aprendizaje automático, y su comprensión es crucial para aprovechar al máximo su potencial en problemas diversos."
   ]
  },
  {
   "cell_type": "markdown",
   "metadata": {
    "id": "xObFCchKO_tE"
   },
   "source": [
    "#### **2.4.8 Aplicaciones en problemas de Clasificación**"
   ]
  },
  {
   "cell_type": "markdown",
   "metadata": {
    "id": "9N08N-I2PD2K"
   },
   "source": [
    "#### **2.4.9 Aplicaciones en problemas de Regresión**"
   ]
  },
  {
   "cell_type": "code",
   "execution_count": null,
   "metadata": {
    "id": "OQfDI-C2O21f"
   },
   "outputs": [],
   "source": []
  }
 ],
 "metadata": {
  "colab": {
   "authorship_tag": "ABX9TyMhG9Px3usqnuaa5tUsHPPY",
   "provenance": [],
   "toc_visible": true
  },
  "kernelspec": {
   "display_name": "Python 3 (ipykernel)",
   "language": "python",
   "name": "python3"
  },
  "language_info": {
   "codemirror_mode": {
    "name": "ipython",
    "version": 3
   },
   "file_extension": ".py",
   "mimetype": "text/x-python",
   "name": "python",
   "nbconvert_exporter": "python",
   "pygments_lexer": "ipython3",
   "version": "3.10.13"
  }
 },
 "nbformat": 4,
 "nbformat_minor": 4
}
