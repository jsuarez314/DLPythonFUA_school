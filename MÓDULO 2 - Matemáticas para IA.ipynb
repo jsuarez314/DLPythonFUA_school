{
 "cells": [
  {
   "cell_type": "markdown",
   "metadata": {
    "id": "keYrauiQD_Ta"
   },
   "source": [
    "# MÓDULO 2. Matemáticas para IA  (4 horas)"
   ]
  },
  {
   "cell_type": "code",
   "execution_count": 1,
   "metadata": {
    "executionInfo": {
     "elapsed": 202,
     "status": "ok",
     "timestamp": 1698015858393,
     "user": {
      "displayName": "JOHN FREDY SUAREZ PEREZ",
      "userId": "07610715876772400534"
     },
     "user_tz": 300
    },
    "id": "iQClOxpqE9wn",
    "tags": []
   },
   "outputs": [],
   "source": [
    "import numpy as np # Cargando la librería **numpy**\n",
    "import pylab as pl # Cargando la librería **pylab**"
   ]
  },
  {
   "cell_type": "markdown",
   "metadata": {
    "id": "ctA7RiNNEF84"
   },
   "source": [
    "## 2.1 Algebra lineal y cálculo para IA\n",
    "\n",
    "Una de las herramientas matemáticas más usadas en los campos del aprendizaje automático (Machine Learning (ML), en inglés) e Inteligencia Artificial (IA) es el álgebra lineal. Por lo tanto, para introducirnos en el universo del aprendizaje automático y el análisis de datos, resulta necesario fortalecer nuestra comprensión de los principios que conforman su base.\n",
    "\n",
    "El álgebra lineal es una rama de las matemáticas que se enfoca en el estudio de vectores, espacios vectoriales y transformaciones lineales, así como en las propiedades de estos objetos matemáticos. Es una disciplina fundamental en diversas áreas de la ciencia, incluyendo la física, la informática, la economía, la ingeniería, la estadística y, por supuesto, en la inteligencia artificial.\n"
   ]
  },
  {
   "cell_type": "markdown",
   "metadata": {
    "id": "1YaYq-0tEMnI"
   },
   "source": [
    "### **2.1.1 Conceptos Fundamentales del Álgebra Lineal**\n"
   ]
  },
  {
   "cell_type": "markdown",
   "metadata": {
    "id": "QfXT_4G0EOZf"
   },
   "source": [
    "#### **2.1.1.1 Escalares**\n",
    "\n",
    "Un escalar es un concepto que se utiliza para representar una cantidad que solo tiene magnitud o valor numérico, pero no tiene dirección ni componente en un espacio multidimensional. En otras palabras, un escalar es simplemente un número que se utiliza para describir la cantidad de algo sin referencia a su orientación o dirección en el espacio.\n",
    "\n",
    "En python un escalar se puede representar en dos tipos de formatos, un escalar de tipo entero (int, de integer, en inglés), o de tipo decimal (float).\n"
   ]
  },
  {
   "cell_type": "code",
   "execution_count": 2,
   "metadata": {
    "id": "jbFodgZZD3bP",
    "tags": []
   },
   "outputs": [],
   "source": [
    "a = 3     # Escalar de tipo entero (int)\n",
    "a = 3.5   # Escalar de tipo flotante (float)"
   ]
  },
  {
   "cell_type": "markdown",
   "metadata": {
    "id": "IKR1YX5rETS4"
   },
   "source": [
    "#### **2.1.1.2 Vectores**\n",
    "\n",
    "Un vector es un objeto que se utiliza para representar una cantidad que tiene tanto magnitud (longitud o tamaño) como dirección, en un espacio multidimensional. En otras palabras, un vector es una entidad matemática que se caracteriza por dos componentes principales: su longitud (o módulo) y la dirección en la que apunta.\n",
    "\n",
    "Los vectores se representan generalmente como flechas que tienen un punto de inicio (origen) y un punto final (extremo), y la longitud de la flecha representa la magnitud del vector, mientras que la dirección en la que apunta la flecha representa la dirección del vector. La magnitud de un vector se denota a menudo por $|\\vec{v}|$ o simplemente $v$, y puede ser un número real positivo.\n",
    "\n",
    "\n",
    "Un vector puede ser de tipo fila,\n",
    "\n",
    "$$\\begin{equation} f = \\begin{vmatrix} f_1 & f_2  & \\cdots & f_n  \\end{vmatrix} \\end{equation}$$\n",
    "\n",
    "o de tipo columna,\n",
    "\n",
    "$$ \\begin{equation} c = \\begin{vmatrix} c_1 \\\\ c_2 \\\\ \\cdots  \\\\ c_n \\\\ \\end{vmatrix} \\end{equation}$$\n",
    "\n",
    "En python un vector se puede representar usando la librería numpy, donde cada elemento del vector es separado por comas.\n",
    "\n",
    "Un vector fila puede representarse con la siguiente línea de código,"
   ]
  },
  {
   "cell_type": "code",
   "execution_count": 3,
   "metadata": {
    "colab": {
     "base_uri": "https://localhost:8080/"
    },
    "executionInfo": {
     "elapsed": 6,
     "status": "ok",
     "timestamp": 1696865914414,
     "user": {
      "displayName": "JOHN FREDY SUAREZ PEREZ",
      "userId": "07610715876772400534"
     },
     "user_tz": 300
    },
    "id": "7bWPro7AERKA",
    "outputId": "bfe98e41-294c-49ad-d2ca-84ec6160a1c9",
    "tags": []
   },
   "outputs": [
    {
     "data": {
      "text/plain": [
       "array([1, 2, 3, 4, 5])"
      ]
     },
     "execution_count": 3,
     "metadata": {},
     "output_type": "execute_result"
    }
   ],
   "source": [
    "f = np.array([1, 2, 3, 4, 5])  # Definiendo el vector fila, con 5 elementos\n",
    "f"
   ]
  },
  {
   "cell_type": "markdown",
   "metadata": {
    "id": "j8Cp8GeJGCjt"
   },
   "source": [
    "Por otro lado, un vector columna puede representarse con la siguiente línea de código, nótese que al momento de imprimirlo se puede identificar más fácilmente el tipo de vector."
   ]
  },
  {
   "cell_type": "code",
   "execution_count": 4,
   "metadata": {
    "colab": {
     "base_uri": "https://localhost:8080/"
    },
    "executionInfo": {
     "elapsed": 4,
     "status": "ok",
     "timestamp": 1696866012732,
     "user": {
      "displayName": "JOHN FREDY SUAREZ PEREZ",
      "userId": "07610715876772400534"
     },
     "user_tz": 300
    },
    "id": "dS9W1V93Fv4f",
    "outputId": "7e1a5055-74ce-488b-ac05-04e9c2369ba7",
    "tags": []
   },
   "outputs": [
    {
     "data": {
      "text/plain": [
       "array([[1],\n",
       "       [2],\n",
       "       [3],\n",
       "       [4],\n",
       "       [5]])"
      ]
     },
     "execution_count": 4,
     "metadata": {},
     "output_type": "execute_result"
    }
   ],
   "source": [
    "c = np.array([[1], [2], [3], [4], [5]])  # Definiendo el vector fila, con 5 elementos\n",
    "c"
   ]
  },
  {
   "cell_type": "markdown",
   "metadata": {
    "id": "Yczg7P9tR5Op"
   },
   "source": [
    "\n",
    "En python estos vectores se pueden representar gráficamente usando la librería pyplot mediante la siguiente función"
   ]
  },
  {
   "cell_type": "code",
   "execution_count": 5,
   "metadata": {
    "executionInfo": {
     "elapsed": 221,
     "status": "ok",
     "timestamp": 1698023168551,
     "user": {
      "displayName": "JOHN FREDY SUAREZ PEREZ",
      "userId": "07610715876772400534"
     },
     "user_tz": 300
    },
    "id": "tOP3zZjGR6Aa",
    "tags": []
   },
   "outputs": [],
   "source": [
    "def dibujar_vector(vector, origen=[0, 0], color='b', label=None):\n",
    "    \"\"\"\n",
    "    Dibuja un vector en un sistema de coordenadas.\n",
    "\n",
    "    Parámetros:\n",
    "    - vector: Lista o array de dos elementos que representan las coordenadas del vector.\n",
    "    - origen: Lista o array de dos elementos que representan las coordenadas del origen del vector.\n",
    "    - color: Color del vector en el gráfico (por defecto, azul).\n",
    "    - label: Etiqueta del vector para agregar al gráfico (opcional).\n",
    "    \"\"\"\n",
    "    pl.quiver(*origen, *vector, color=color, angles='xy', scale_units='xy', scale=1, label=label)\n",
    "    pl.xlim(-1, max(1, vector[0] + origen[0]))\n",
    "    pl.ylim(-1, max(1, vector[1] + origen[1]))\n",
    "\n",
    "    if label:\n",
    "        pl.text(origen[0] + vector[0], origen[1] + vector[1], label, fontsize=12, color=color)\n",
    "\n",
    "    pl.xlabel('Eje X')\n",
    "    pl.ylabel('Eje Y')\n",
    "    pl.axhline(0, color='black',linewidth=0.5)\n",
    "    pl.axvline(0, color='black',linewidth=0.5)\n",
    "    pl.grid(color = 'gray', linestyle = '--', linewidth = 0.5)\n",
    "    pl.legend()\n",
    "    pl.show()"
   ]
  },
  {
   "cell_type": "code",
   "execution_count": 6,
   "metadata": {
    "colab": {
     "base_uri": "https://localhost:8080/",
     "height": 463
    },
    "executionInfo": {
     "elapsed": 1048,
     "status": "ok",
     "timestamp": 1698023171451,
     "user": {
      "displayName": "JOHN FREDY SUAREZ PEREZ",
      "userId": "07610715876772400534"
     },
     "user_tz": 300
    },
    "id": "3QqfbE5pZH99",
    "outputId": "7814023f-70f4-450f-ffa9-050a63b52e36",
    "tags": []
   },
   "outputs": [
    {
     "data": {
      "image/png": "[encoded data removed]",
      "text/plain": [
       "<Figure size 640x480 with 1 Axes>"
      ]
     },
     "metadata": {},
     "output_type": "display_data"
    }
   ],
   "source": [
    "vector_ejemplo = np.array([2, 3])\n",
    "origen_ejemplo = np.array([1, 1])\n",
    "dibujar_vector(vector_ejemplo, origen=origen_ejemplo, color='r', label='Vector de Ejemplo')"
   ]
  },
  {
   "cell_type": "markdown",
   "metadata": {
    "id": "CGszyVrXmmZy"
   },
   "source": [
    "##### **Operaciones con vectores**"
   ]
  },
  {
   "cell_type": "markdown",
   "metadata": {
    "id": "W6avMo-ylJEX"
   },
   "source": [
    "##### **Suma de vectores**\n",
    "\n",
    "La suma de dos vectores $A$ y $B$ se realiza componente a componente. Si tienes dos vectores en $R^n$ representados como $\\vec{A} = [a_1,a_2,\\dots,a_n]$ y\n",
    "$\\vec{B} = [b_1,b_2,\\dots,b_n]$, entonces la suma $\\vec{C}$ de $\\vec{A}$ y $\\vec{B}$ es:\n",
    "\n",
    "$$\\vec{C} = [a_1+b_1,a_2+b_2,\\dots,a_n+b_n]$$\n",
    "\n",
    "\n",
    "Para poder sumar dos o más vectores se debe cumplir una condición, las dimensiones deben ser iguales, por lo tanto, los vectores que se están sumando deben tener la misma dimensión. Es decir, deben tener el mismo número de componentes.\n",
    "\n",
    "Una de las propiedades de la suma de vectores es que es una operación conmutativa, lo que significa que $\\vec{A}+\\vec{B}=\\vec{B}+\\vec{A}$. También es asociativa, lo que significa que $(\\vec{A}+\\vec{B})+\\vec{C}=\\vec{A}+(\\vec{B}+\\vec{C})$.\n",
    "\n",
    "Finalmente, otra de las propiedades de los vectores, es el vector cero $\\vec{0} = [0,0,\\dots,0]$ tal que $\\vec{A}+ \\vec{0} = \\vec{A}$, para cualquier vector\n",
    "$\\vec{A}$.\n",
    "\n",
    "\n",
    "Supongamos que se tienen los vectores $\\vec{A}=[2,3]$ y $B=[1,−1]$. La suma de estos vectores sería:\n",
    "\n",
    "$$\\vec{C} = [2+1 ,3-1] = [3,2]$$\n",
    "\n",
    "En Python se haría de la siguiente forma:"
   ]
  },
  {
   "cell_type": "code",
   "execution_count": 7,
   "metadata": {
    "colab": {
     "base_uri": "https://localhost:8080/"
    },
    "executionInfo": {
     "elapsed": 225,
     "status": "ok",
     "timestamp": 1698015981822,
     "user": {
      "displayName": "JOHN FREDY SUAREZ PEREZ",
      "userId": "07610715876772400534"
     },
     "user_tz": 300
    },
    "id": "BOokQgttoLRj",
    "outputId": "5a49554f-58ec-4d72-acf0-8dcbd72274ea",
    "tags": []
   },
   "outputs": [
    {
     "name": "stdout",
     "output_type": "stream",
     "text": [
      "[3 2]\n"
     ]
    }
   ],
   "source": [
    "A = np.array([2,3])\n",
    "B = np.array([1,-1])\n",
    "\n",
    "C = A+B\n",
    "print(C)"
   ]
  },
  {
   "cell_type": "markdown",
   "metadata": {
    "id": "M8we6WX6DDbZ"
   },
   "source": [
    "Graficamente la suma de dos vectores sigue la secuencia cabeza-cola, utilizando la función `dibujar_suma_de_vectores()` vemos como se suman gráficamente dos vectores. Utilizando"
   ]
  },
  {
   "cell_type": "code",
   "execution_count": 8,
   "metadata": {
    "executionInfo": {
     "elapsed": 371,
     "status": "ok",
     "timestamp": 1698023382428,
     "user": {
      "displayName": "JOHN FREDY SUAREZ PEREZ",
      "userId": "07610715876772400534"
     },
     "user_tz": 300
    },
    "id": "on9vTURKEiRA",
    "tags": []
   },
   "outputs": [],
   "source": [
    "def dibujar_suma_de_vectores(v1, v2):\n",
    "    \"\"\"\n",
    "    Dibuja la suma de dos vectores.\n",
    "    \"\"\"\n",
    "\n",
    "    # Suma de vectores\n",
    "    v_suma = np.array(v1) + np.array(v2)\n",
    "\n",
    "    # Crear la figura y los ejes\n",
    "    fig, ax = pl.subplots()\n",
    "\n",
    "    # Dibujar el vector 1\n",
    "    ax.quiver(0, 0, v1[0], v1[1], angles='xy', scale_units='xy', scale=1, color='r', label='Vector 1')\n",
    "\n",
    "    # Dibujar el vector 2\n",
    "    ax.quiver(v1[0], v1[1], v2[0], v2[1], angles='xy', scale_units='xy', scale=1, color='b', label='Vector 2')\n",
    "\n",
    "    # Dibujar la suma de vectores\n",
    "    ax.quiver(0, 0, v_suma[0], v_suma[1], angles='xy', scale_units='xy', scale=1, color='g', label='Suma de Vectores')\n",
    "\n",
    "    # Configuración del gráfico\n",
    "    ax.set_xlim(0, max(v1[0], v2[0], v_suma[0]) + 1)\n",
    "    ax.set_ylim(0, max(v1[1], v2[1], v_suma[1]) + 1)\n",
    "    ax.set_aspect('equal', adjustable='box')\n",
    "    ax.grid(True)\n",
    "    ax.legend()\n",
    "\n",
    "    # Mostrar el gráfico\n",
    "    pl.show()"
   ]
  },
  {
   "cell_type": "code",
   "execution_count": 9,
   "metadata": {
    "colab": {
     "base_uri": "https://localhost:8080/",
     "height": 349
    },
    "executionInfo": {
     "elapsed": 831,
     "status": "ok",
     "timestamp": 1698023394309,
     "user": {
      "displayName": "JOHN FREDY SUAREZ PEREZ",
      "userId": "07610715876772400534"
     },
     "user_tz": 300
    },
    "id": "42ko52HxDTmC",
    "outputId": "1dc7b8f6-945e-4fb5-a2f5-f252179b995a",
    "tags": []
   },
   "outputs": [
    {
     "data": {
      "image/png": "[encoded data removed]",
      "text/plain": [
       "<Figure size 640x480 with 1 Axes>"
      ]
     },
     "metadata": {},
     "output_type": "display_data"
    }
   ],
   "source": [
    "v1 = [2, 3]\n",
    "v2 = [4, -1]\n",
    "dibujar_suma_de_vectores(v1, v2)"
   ]
  },
  {
   "cell_type": "markdown",
   "metadata": {
    "id": "BT8nTOrsp6Xf"
   },
   "source": [
    "##### **Producto por escalar**\n",
    "\n",
    "El producto de un escalar $k$ por un vector $\\vec{A}$, también llamado producto punto, es otra de las operaciones fundamentales de los vectores. Suponiendo que se tienen el vector $\\vec{A} = [a_1,a_2,\\dots,a_n]$ y\n",
    "un escalar $k$, el producto por escalar  $\\vec{W} = k \\cdot \\vec{A}$, tiene la forma:\n",
    "\n",
    "$$\\vec{W} = k \\cdot \\vec{A} = [k\\cdot a_1,k \\cdot a_2,\\dots, k\\cdot a_n]$$\n",
    "\n",
    "Es decir, el escalar $k$ opera sobre cada uno de los elementos del vector $\\vec{A}$.\n",
    "\n",
    "Supongamos que se tienen el vector $\\vec{A}=[2,3]$ y el escalar $k=2$. El producto punto $k\\cdot \\vec{A}$ es:\n",
    "$$\\vec{W} = [2\\cdot 2, 2 \\cdot 3] = [4,6]$$\n",
    "\n",
    "\n",
    "En Python se haría de la siguiente forma:"
   ]
  },
  {
   "cell_type": "code",
   "execution_count": 10,
   "metadata": {
    "colab": {
     "base_uri": "https://localhost:8080/"
    },
    "executionInfo": {
     "elapsed": 203,
     "status": "ok",
     "timestamp": 1698016425144,
     "user": {
      "displayName": "JOHN FREDY SUAREZ PEREZ",
      "userId": "07610715876772400534"
     },
     "user_tz": 300
    },
    "id": "o5Aomffzo90q",
    "outputId": "f74bfa4e-0a93-4676-ad55-ff10a2d37eda",
    "tags": []
   },
   "outputs": [
    {
     "name": "stdout",
     "output_type": "stream",
     "text": [
      "[4 6]\n"
     ]
    }
   ],
   "source": [
    "A = np.array([2,3])\n",
    "k = 2\n",
    "\n",
    "W = k*A\n",
    "print(W)"
   ]
  },
  {
   "cell_type": "markdown",
   "metadata": {
    "id": "Ji0TQlEOGvQg"
   },
   "source": [
    "#### **2.1.1.3 Matrices**\n",
    "\n",
    "Una matriz es una estructura matemática que se utiliza para organizar y representar datos en forma de una tabla rectangular compuesta por filas y columnas. Cada elemento de una matriz se encuentra en una posición específica definida por su fila y columna. Las matrices son fundamentales en diversas áreas de las matemáticas, la física, la ingeniería, la informática y muchas otras disciplinas.\n",
    "\n",
    "\n",
    "La matriz $A$ de tamaño $m \\times n$ se representa así,\n",
    "\n",
    "$$\\begin{equation} A_{m \\times n} = \\begin{vmatrix} a_{1,1} & a_{1,2} & \\cdots & a_{1,n} \\\\  a_{2,1} & a_{2,2} & \\cdots & a_{2,n}\\\\ \\cdots & \\cdots & \\ddots &  \\cdots \\\\  a_{m,1} & a_{m,2} & \\cdots & a_{m,n}\\\\ \\end{vmatrix} \\end{equation} $$\n"
   ]
  },
  {
   "cell_type": "markdown",
   "metadata": {
    "id": "zYjfIhPWIzCj"
   },
   "source": [
    "Los componentes de una matriz son:\n",
    "\n",
    "**Filas y Columnas:** Una matriz se organiza en filas y columnas. Cada fila contiene elementos dispuestos horizontalmente, y cada columna contiene elementos dispuestos verticalmente, en el ejemplo anterior, la matriz $A$ tiene $m$ filas y $n$ columnas.\n",
    "\n",
    "\n",
    "**Elementos:** Los elementos individuales de una matriz se denotan con letras minúsculas y subíndices para indicar su posición en la matriz. Por ejemplo, $a_{i,j}$ representa el elemento en la fila $i$ y la columna $j$ de la matriz.\n",
    "\n",
    "\n",
    "**Dimensión:** La dimensión de una matriz se describe mediante dos números: el número de filas ($m$) y el número de columnas ($n$). Por ejemplo, una matriz 3x2 tiene 3 filas y 2 columnas.\n",
    "\n",
    "\n",
    "**Matriz Cuadrada:** Una matriz cuadrada es aquella en la que el número de filas es igual al número de columnas, es decir, $ m = n $.\n",
    "\n",
    "**Matriz Identidad:** Es una matriz cuadrada en la que todos los elementos de la diagonal principal son iguales a $1$ y los demás elementos son iguales a 0. Se denomina comúnmente como $I$ o $I_n$ para una matriz de tamaño $n \\times n$.\n",
    "\n",
    "La matriz $I$ de tamaño $4 \\times 4$, es un ejemplo de una matriz identidad.\n",
    "\n",
    "$$\\begin{equation} I =  \\begin{vmatrix} 1 & 0 & 0 & 0\\\\ 0 & 1 & 0 &  0 \\\\ 0 & 0 & 1 & 0 \\\\  0 & 0 & 0 & 1\\\\ \\end{vmatrix} \\end{equation} $$\n",
    "\n"
   ]
  },
  {
   "cell_type": "code",
   "execution_count": 11,
   "metadata": {
    "colab": {
     "base_uri": "https://localhost:8080/"
    },
    "executionInfo": {
     "elapsed": 306,
     "status": "ok",
     "timestamp": 1698016474586,
     "user": {
      "displayName": "JOHN FREDY SUAREZ PEREZ",
      "userId": "07610715876772400534"
     },
     "user_tz": 300
    },
    "id": "fO3uuSyKGIt9",
    "outputId": "f24d040b-9d81-41ac-c9d9-63cc558fd038",
    "tags": []
   },
   "outputs": [
    {
     "data": {
      "text/plain": [
       "array([[1., 0., 0., 0.],\n",
       "       [0., 1., 0., 0.],\n",
       "       [0., 0., 1., 0.],\n",
       "       [0., 0., 0., 1.]])"
      ]
     },
     "execution_count": 11,
     "metadata": {},
     "output_type": "execute_result"
    }
   ],
   "source": [
    "I = np.identity(4)\n",
    "I"
   ]
  },
  {
   "cell_type": "markdown",
   "metadata": {
    "id": "P0ynUiU1Nl0k"
   },
   "source": [
    "#### **2.1.1.4 Aplicaciones de las matrices**\n",
    "\n",
    "Las matrices tienen una amplia variedad de aplicaciones en la resolución de sistemas de ecuaciones lineales, en la representación de transformaciones lineales, en la estadística, en la programación de computadoras y en muchas otras áreas. Son una herramienta esencial en álgebra lineal y se utilizan en campos como la geometría, la física, la informática gráfica, la ingeniería y el análisis de datos.\n"
   ]
  },
  {
   "cell_type": "markdown",
   "metadata": {
    "id": "na1CJXEcPhZd"
   },
   "source": [
    "##### **Operaciones Matriciales**\n",
    "\n",
    "Las matrices se pueden sumar, restar y multiplicar por escalares. También se pueden multiplicar entre sí, pero las reglas para la multiplicación de matrices dependen de sus dimensiones."
   ]
  },
  {
   "cell_type": "markdown",
   "metadata": {
    "id": "hOEWaGKVj9nB"
   },
   "source": [
    "##### **Suma de Vectores**\n",
    "\n",
    "Al igual que con los vectores, las matrices se pueden sumar. El proceso es el mismo que con los vectores, la suma se hace componente a componente.\n",
    "\n",
    "$$\\begin{split}\\vec{A} + \\vec{B} =\n",
    "\\begin{vmatrix}\n",
    "    a_{11} & \\cdots & a_{1k} \\\\\n",
    "    \\vdots & \\vdots & \\vdots \\\\\n",
    "    a_{n1} & \\cdots & a_{nk} \\\\\n",
    "\\end{vmatrix}\n",
    "+\n",
    "\\begin{vmatrix}\n",
    "    b_{11} & \\cdots & b_{1k} \\\\\n",
    "    \\vdots & \\vdots & \\vdots \\\\\n",
    "    b_{n1} & \\cdots & b_{nk} \\\\\n",
    "\\end{vmatrix}\n",
    "=\n",
    "\\begin{vmatrix}\n",
    "    a_{11} + b_{11} &  \\cdots & a_{1k} + b_{1k} \\\\\n",
    "    \\vdots & \\vdots & \\vdots \\\\\n",
    "    a_{n1} + b_{n1} &  \\cdots & a_{nk} + b_{nk} \\\\\n",
    "\\end{vmatrix}\n",
    "\\end{split}$$\n",
    "\n",
    "\n",
    "Por ejemplo, si se tienen las matrices\n",
    "$$ \\vec{A} =\n",
    "\\begin{vmatrix}\n",
    "    1 & 2 \\\\\n",
    "    -1 & -2 \\\\\n",
    "\\end{vmatrix}\n",
    "$$\n",
    "y\n",
    "$$\n",
    "\\vec{B} =\n",
    "\\begin{vmatrix}\n",
    "    -1 & 3 \\\\\n",
    "    -1 & 2 \\\\\n",
    "\\end{vmatrix}$$\n",
    "\n",
    "La suma $\\vec{C} = \\vec{A}+\\vec{B}$ es:\n",
    "\n",
    "$$\n",
    "\\vec{C} =\n",
    "\\begin{vmatrix}\n",
    "    1-1 & 2+3 \\\\\n",
    "    -1-1 & -2+2 \\\\\n",
    "\\end{vmatrix}\n",
    "=\n",
    "\\begin{vmatrix}\n",
    "    0 & 5 \\\\\n",
    "    -2 & 0 \\\\\n",
    "\\end{vmatrix}\n",
    "$$\n",
    "\n",
    "En Python la operación se haría de la siguiente forma:"
   ]
  },
  {
   "cell_type": "code",
   "execution_count": 12,
   "metadata": {
    "colab": {
     "base_uri": "https://localhost:8080/"
    },
    "executionInfo": {
     "elapsed": 5,
     "status": "ok",
     "timestamp": 1698017539355,
     "user": {
      "displayName": "JOHN FREDY SUAREZ PEREZ",
      "userId": "07610715876772400534"
     },
     "user_tz": 300
    },
    "id": "W8T2Q9WRugzy",
    "outputId": "379be955-bf86-4876-e50e-2f123d890a47",
    "tags": []
   },
   "outputs": [
    {
     "name": "stdout",
     "output_type": "stream",
     "text": [
      "[[ 0  5]\n",
      " [-2  0]]\n"
     ]
    }
   ],
   "source": [
    "A = np.array([[1,2],[-1,-2]])\n",
    "B = np.array([[-1,3],[-1,2]])\n",
    "\n",
    "C = A + B\n",
    "print(C)"
   ]
  },
  {
   "cell_type": "markdown",
   "metadata": {
    "id": "SF7B1Le5PlrO"
   },
   "source": [
    "##### **Producto por escalar**\n",
    "\n",
    "Tal como aplica la operación de producto por escalar con los vectores, en la multiplicación de matrices por escalares, el escalar opera sobre cada uno de los elementos de la matriz, así:\n",
    "\n",
    "$$\\begin{split}\\vec{W} = k \\cdot \\begin{vmatrix}\n",
    "    a_{11} &  \\cdots & a_{1k} \\\\\n",
    "    \\vdots & \\vdots  & \\vdots \\\\\n",
    "    a_{n1} &  \\cdots & a_{nk} \\\\\n",
    "\\end{vmatrix}\n",
    ":=\n",
    "\\begin{vmatrix}\n",
    "    k \\cdot a_{11} & \\cdots & k\\cdot a_{1k} \\\\\n",
    "    \\vdots & \\vdots & \\vdots \\\\\n",
    "    k \\cdot a_{n1} & \\cdots & k\\cdot a_{nk} \\\\\n",
    "\\end{vmatrix}\n",
    "\\end{split}$$\n",
    "\n",
    "Por ejemplo, si se tiene la matriz\n",
    "$$ \\vec{A} =\n",
    "\\begin{vmatrix}\n",
    "    1 & 2 \\\\\n",
    "    -1 & -2 \\\\\n",
    "\\end{vmatrix}\n",
    "$$\n",
    "y el escalar $k=3$, el producto por escalar $\\vec{W} = k\\cdot \\vec{A}$ es:\n",
    "\n",
    "$$ k \\cdot \\vec{A} =\n",
    "\\begin{vmatrix}\n",
    "    3\\cdot 1 & 3\\cdot 2 \\\\\n",
    "    3\\cdot(-1) & 3\\cdot(-2) \\\\\n",
    "\\end{vmatrix}\n",
    "=\n",
    "\\begin{vmatrix}\n",
    "    3 & 6 \\\\\n",
    "    -3 & -6 \\\\\n",
    "\\end{vmatrix}\n",
    "$$\n",
    "\n",
    "En Python la operación se haría de la siguiente forma:"
   ]
  },
  {
   "cell_type": "code",
   "execution_count": 13,
   "metadata": {
    "colab": {
     "base_uri": "https://localhost:8080/"
    },
    "executionInfo": {
     "elapsed": 7,
     "status": "ok",
     "timestamp": 1698018053260,
     "user": {
      "displayName": "JOHN FREDY SUAREZ PEREZ",
      "userId": "07610715876772400534"
     },
     "user_tz": 300
    },
    "id": "FhVWWn7XOcit",
    "outputId": "919d4e7c-b129-42f8-d227-855f6c8e5b01"
   },
   "outputs": [
    {
     "name": "stdout",
     "output_type": "stream",
     "text": [
      "[[ 3  6]\n",
      " [-3 -6]]\n"
     ]
    }
   ],
   "source": [
    "A = np.array([[1,2],[-1,-2]])\n",
    "k = 3\n",
    "\n",
    "W = k *A\n",
    "print(W)"
   ]
  },
  {
   "cell_type": "markdown",
   "metadata": {
    "id": "9FuDpI0AwuDX"
   },
   "source": [
    "Para los casos de suma, hay que tener en cuenta que solo se pueden sumar matrices que tengan las mismas dimensiones, es decir, que si tengo una matriz $\\vec{A}$ de dimensión $3\\times2$ ($3$ filas y $2$ columnas) solo voy a poder sumar la matriz $\\vec{B}$ si esta también tiene 3 filas y 2 columnas."
   ]
  },
  {
   "cell_type": "markdown",
   "metadata": {
    "id": "jslIuQas_hpB"
   },
   "source": [
    "##### **Producto entre matrices**\n",
    "\n",
    "El producto de matrices es una operación fundamental en álgebra lineal. Para multiplicar dos matrices \\vec{A}$ y \\vec{B}, el número de columnas en\n",
    "$\\vec{A}$ debe ser igual al número de filas en $\\vec{B}$. El resultado es una nueva matriz $\\vec{C}$ cuyas dimensiones son el número de filas de $\\vec{A}$ por el número de columnas de $\\vec{B}$.\n",
    "\n",
    "\n",
    "Dadas dos matrices $\\vec{A}$ y $\\vec{B}$ con dimensiones $m\\times n$ y $n\\times p$ respectivamente, el producto $\\vec{C}$ se define como:\n",
    "\n",
    "$$\n",
    "\\vec{C} = A \\cdot B\n",
    "$$\n",
    "\n",
    "Donde:\n",
    "\n",
    "$$\n",
    "C_{ij} = \\sum_{k=1}^{n} A_{ik}\\cdot B_{kj}\n",
    "$$\n",
    "\n",
    "Esto significa que cada elemento $C_{ij}$ de la matriz resultante es la suma de los productos de los elementos correspondientes de la fila $i$ de $\\vec{A}$ por la columna $j$ de $\\vec{B}$.\n",
    "\n",
    "Por ejemplo, si se consideran las matrices:\n",
    "\n",
    "$$ \\vec{A} =\n",
    "\\begin{vmatrix}\n",
    "    2 & 3 \\\\\n",
    "    1 & 4 \\\\\n",
    "\\end{vmatrix}\n",
    "$$\n",
    "y\n",
    "$$\n",
    "\\vec{B} =\n",
    "\\begin{vmatrix}\n",
    "    5 & 1 \\\\\n",
    "    2 & 6 \\\\\n",
    "\\end{vmatrix}$$\n",
    "\n",
    "El producto $\\vec{C} = \\vec{A}\\cdot \\vec{B}$ sería:\n",
    "\n",
    "$$\n",
    "\\vec{C} = \\vec{A}\\cdot \\vec{B} =\n",
    "\\begin{vmatrix}\n",
    "    (2\\cdot 5 + 3 \\cdot 2) & (2\\cdot 1 + 3\\cdot 6) \\\\\n",
    "    (1\\cdot 5 + 4 \\cdot 2) & (1\\cdot 1 + 4\\cdot 6) \\\\\n",
    "\\end{vmatrix}$$\n",
    "\n",
    "Simplificando\n",
    "\n",
    "$$\n",
    "\\vec{C} = \\vec{A}\\cdot \\vec{B} =\n",
    "\\begin{vmatrix}\n",
    "    16 & 20 \\\\\n",
    "    13 & 25 \\\\\n",
    "\\end{vmatrix}$$\n",
    "\n",
    "En Python se haría de la siguiente forma:"
   ]
  },
  {
   "cell_type": "code",
   "execution_count": 14,
   "metadata": {
    "colab": {
     "base_uri": "https://localhost:8080/"
    },
    "executionInfo": {
     "elapsed": 201,
     "status": "ok",
     "timestamp": 1698021920598,
     "user": {
      "displayName": "JOHN FREDY SUAREZ PEREZ",
      "userId": "07610715876772400534"
     },
     "user_tz": 300
    },
    "id": "2F0lFJe8_jPj",
    "outputId": "92fcd0a9-46ce-473b-972f-a480ee7a3759"
   },
   "outputs": [
    {
     "name": "stdout",
     "output_type": "stream",
     "text": [
      "[[16 20]\n",
      " [13 25]]\n"
     ]
    }
   ],
   "source": [
    "A = np.array([[2, 3], [1, 4]])\n",
    "B = np.array([[5, 1], [2, 6]])\n",
    "\n",
    "C = np.dot(A, B)  # o simplemente C = A @ B\n",
    "\n",
    "print(C)"
   ]
  },
  {
   "cell_type": "markdown",
   "metadata": {
    "id": "UF2qADuczrSS"
   },
   "source": [
    "##### **Determinante de una matriz**\n",
    "\n",
    "La determinante de una matriz es una medida numérica que se asocia con una matriz cuadrada, y se denota comúnmente como $det(\\vec{A})$. La determinante proporciona información sobre las propiedades geométricas y algebraicas de la matriz.\n",
    "\n",
    "Dada una matriz cuadrada $\\vec{A}$ de orden $n\\times n$, la determinante\n",
    "$det(\\vec{A})$, se calcula como una suma ponderada de productos de elementos de la matriz de acuerdo con una regla específica.\n",
    "\n",
    "Para una matriz $\\vec{A}$ de $2\\times2$,\n",
    "\n",
    "$$\\vec{A} =\n",
    "\\begin{vmatrix}\n",
    "  a & b \\\\\n",
    "  c & d \\\\\n",
    "\\end{vmatrix}\n",
    "$$\n",
    "su determinante es\n",
    "$$det (\\vec{A}) = ad - bc$$\n",
    "\n",
    "Para matrices de orden superior, se utilizan reglas más generales que involucran submatrices.\n",
    "\n",
    "En el caso de una matriz $\\vec{A}$ de $3\\times 3$\n",
    "\n",
    "$$\\vec{A} =\n",
    "\\begin{vmatrix}\n",
    "  a & b & c\\\\\n",
    "  d & e & f\\\\\n",
    "  g & h & i\\\\\n",
    "\\end{vmatrix}\n",
    "$$\n",
    "\n",
    "su determinante es\n",
    "$$det (\\vec{A}) = a(ei-fh) - b(di-fg)+c(dh-eg)$$\n",
    "\n",
    "\n",
    "Por ejemplo, si se tiene la matriz $2\\times2$\n",
    "$$ \\vec{A} =\n",
    "\\begin{vmatrix}\n",
    "    1 & 2 \\\\\n",
    "    -1 & -2 \\\\\n",
    "\\end{vmatrix}\n",
    "$$\n",
    "su determinante será:\n",
    "\n",
    "$$ det(\\vec{A}) = 1\\cdot (-2) - 2\\cdot(-1)= -2 + 2 = 0$$\n",
    "\n",
    "En Python la operación se haría de la siguiente forma:"
   ]
  },
  {
   "cell_type": "code",
   "execution_count": 15,
   "metadata": {
    "colab": {
     "base_uri": "https://localhost:8080/"
    },
    "executionInfo": {
     "elapsed": 226,
     "status": "ok",
     "timestamp": 1698019621044,
     "user": {
      "displayName": "JOHN FREDY SUAREZ PEREZ",
      "userId": "07610715876772400534"
     },
     "user_tz": 300
    },
    "id": "5fcUZyoh2PGk",
    "outputId": "7d549326-7dc4-470a-c264-ab05580e15c9"
   },
   "outputs": [
    {
     "name": "stdout",
     "output_type": "stream",
     "text": [
      "0.0\n"
     ]
    }
   ],
   "source": [
    "A = np.array([[1,2],[-1,-2]])\n",
    "\n",
    "det_A = np.linalg.det(A)\n",
    "print(det_A)"
   ]
  },
  {
   "cell_type": "markdown",
   "metadata": {
    "id": "2CEV04Nm20C5"
   },
   "source": [
    "Por otro lado, si se tiene la matriz $3\\times3$\n",
    "$$ \\vec{A} =\n",
    "\\begin{vmatrix}\n",
    "    1 & 2 & 2 \\\\\n",
    "    -1 & -2 & 3\\\\\n",
    "    4 & 1 & -1 \\\\\n",
    "\\end{vmatrix}\n",
    "$$\n",
    "su determinante será:\n",
    "\n",
    "$$ \\begin{eqnarray}\n",
    "det(\\vec{A}) = 1[(-2)(-1)-(3)(1)]- 2[(-1)(-1)-(3)(4)]+2[(-1)(1)-(-2)(4)] \\\\\n",
    "det(\\vec{A}) = 1[2-3]- 2[1-12]+2[-1+8] \\\\\n",
    "det(\\vec{A}) = -1 +22 + 14 \\\\\n",
    "det(\\vec{A}) = 35 \\\\\n",
    "\\end{eqnarray}$$\n",
    "\n",
    "En Python la operación se haría de la siguiente forma:"
   ]
  },
  {
   "cell_type": "code",
   "execution_count": 16,
   "metadata": {
    "colab": {
     "base_uri": "https://localhost:8080/"
    },
    "executionInfo": {
     "elapsed": 5,
     "status": "ok",
     "timestamp": 1698019975382,
     "user": {
      "displayName": "JOHN FREDY SUAREZ PEREZ",
      "userId": "07610715876772400534"
     },
     "user_tz": 300
    },
    "id": "OYQZnapu39UD",
    "outputId": "06f0e560-427b-44c3-96aa-0a24de584bd4"
   },
   "outputs": [
    {
     "name": "stdout",
     "output_type": "stream",
     "text": [
      "34.99999999999999\n"
     ]
    }
   ],
   "source": [
    "A = np.array([ [1,2,2], [-1,-2,3], [4,1,-1] ])\n",
    "\n",
    "det_A = np.linalg.det(A)\n",
    "print(det_A)"
   ]
  },
  {
   "cell_type": "markdown",
   "metadata": {
    "id": "Kbtjr1ECx1sW"
   },
   "source": [
    "#### **2.1.1.5 Autovalores y Autovectores**\n",
    "\n",
    "Los autovalores (o valores propios) y autovectores (o vectores propios) son conceptos fundamentales en álgebra lineal y tienen aplicaciones en diversas áreas, incluyendo el análisis de sistemas lineales y la diagonalización de matrices. En el campo de la inteligencia artificial (IA) tienen multiples aplicaciones.\n",
    "\n",
    "1. *Reducción de Dimensionalidad:*\n",
    "En técnicas como el Análisis de Componentes Principales (PCA), los autovectores representan las direcciones principales de variación en los datos. Al proyectar datos en estas direcciones, se logra una reducción de dimensionalidad manteniendo la mayor cantidad posible de información.\n",
    "\n",
    "2. *Análisis de Redes y Grafos:*\n",
    "En la teoría de grafos y en el análisis de redes, los autovalores y autovectores se utilizan para comprender la estructura y la centralidad de los nodos en la red.\n",
    "\n",
    "3. *Machine Learning No Supervisado:*\n",
    "En algoritmos de aprendizaje no supervisado, como el clustering espectral, los autovalores y autovectores son esenciales para analizar la estructura y las relaciones entre los datos.\n",
    "\n",
    "4. *Redes Neuronales:*\n",
    "En el entrenamiento de redes neuronales, especialmente en la propagación hacia atrás, los gradientes pueden ser calculados eficientemente utilizando propiedades de los autovalores y autovectores.\n"
   ]
  },
  {
   "cell_type": "markdown",
   "metadata": {
    "id": "kQ7fXhDty88M"
   },
   "source": [
    "##### **Autovalores**:\n",
    "\n",
    "Dada una matriz cuadrada $\\vec{A}$, un número $\\lambda$ es un autovalor de\n",
    "$\\vec{A}$ si existe un vector no nulo $\\vec{v}$ tal que $\\vec{A}\\vec{v}=\\lambda\\vec{v}$. En otras palabras, la acción de la matriz $\\vec{A}$ sobre el vector $\\vec{v}$ solo escala el vector por $\\vec{v}$. Para calcular los autovalores, resolvemos la ecuación característica\n",
    "$ det(\\vec{A}− \\lambda \\vec{I}) = 0$, donde $\\vec{I}$ es la matriz identidad.  La solución de esta ecuación proporciona los autovalores."
   ]
  },
  {
   "cell_type": "markdown",
   "metadata": {
    "id": "ZL5MzFLGz-No"
   },
   "source": [
    "##### **Autovectores**:\n",
    "\n",
    "Dado un autovalor $\\lambda$ de la matriz $\\vec{A}$, un vector no nulo\n",
    "$\\vec{v}$ es un autovector correspondiente a $\\lambda$ si $\\vec{A}\\vec{v}=\\lambda\\vec{v}$.\n",
    "\n",
    "Para calcular los autovectores, resolvemos el sistema de ecuaciones\n",
    "$(\\vec{A} - \\lambda \\vec{I})\\vec{v}=0$, donde $\\vec{v}$ es un vector no nulo. La solución de este sistema proporciona los autovectores correspondientes a los autovalores encontrados.\n",
    "\n",
    "Supongamos que tenemos la matriz:\n",
    "\n",
    "$$\n",
    "\\vec{A}=\n",
    "\\begin{vmatrix}\n",
    "3 & 2 \\\\\n",
    "1 & 4 \\\\\n",
    "\\end{vmatrix}\n",
    "$$\n",
    "\n",
    "Primero se deben calcular los autovalores. La ecuación característica es\n",
    "$det(\\vec{A} - \\lambda \\vec{I})=0$. Entonces:\n",
    "\n",
    "$$ det \\left(\n",
    "\\begin{vmatrix}\n",
    "3-\\lambda & 2 \\\\\n",
    "1 & 4-\\lambda \\\\\n",
    "\\end{vmatrix}\n",
    "  \\right) = 0\n",
    "  $$\n",
    "\n",
    "Esto nos da la ecuación característica:\n",
    "$(3 - \\lambda)(4 - \\lambda) - 2 = 0$\n",
    "\n",
    "Resolviendo, encontramos los autovalores\n",
    "\n",
    "$\\lambda_1=5$ y $\\lambda_2=2$\n",
    "\n",
    "Una vez calculados los autovalores, se calculan los autovectores. Para $\\lambda_1 = 5$, se resuelve $(\\vec{A}-5\\vec{I})=0$:\n",
    "\n",
    "$$\\begin{vmatrix}\n",
    "-2 & 2 \\\\\n",
    "1 & -1 \\\\\n",
    "\\end{vmatrix}\n",
    "\\begin{vmatrix}\n",
    "u_1 \\\\\n",
    "u_2 \\\\\n",
    "\\end{vmatrix}\n",
    "=\n",
    "\\begin{vmatrix}\n",
    "0 \\\\\n",
    "0 \\\\\n",
    "\\end{vmatrix}\n",
    "$$\n",
    "\n",
    "Esto nos lleva al sistema de ecuaciones, $-2 u_1 + 2 u_2 = 0$, es decir, $u_1=u_2$. Por lo tanto el autovector asociado a $\\lambda_1=5$ es:\n",
    "\n",
    "$$ v_1 =\n",
    "\\begin{vmatrix}\n",
    "1 \\\\\n",
    "1\\\\\n",
    "\\end{vmatrix}\n",
    "$$\n",
    "\n",
    "De modo que al operar $\\vec{A}\\vec{v_1} = \\lambda_1 \\vec{v1}$, así:\n",
    "\n",
    "$$\n",
    "\\begin{vmatrix}\n",
    "3 & 2 \\\\\n",
    "1 & 4 \\\\\n",
    "\\end{vmatrix}\n",
    "\\begin{vmatrix}\n",
    "1 \\\\\n",
    "1 \\\\\n",
    "\\end{vmatrix}\n",
    "=\n",
    "5 \\begin{vmatrix}\n",
    "1 \\\\\n",
    "1 \\\\\n",
    "\\end{vmatrix}\n",
    "$$\n",
    "\n",
    "$$\n",
    "\\begin{vmatrix}\n",
    "3\\cdot 1 + 2 \\cdot 1 \\\\\n",
    "1\\cdot 1 + 4\\cdot 1 \\\\\n",
    "\\end{vmatrix}\n",
    "=\n",
    "\\begin{vmatrix}\n",
    "5 \\\\\n",
    "5 \\\\\n",
    "\\end{vmatrix}\n",
    "$$\n",
    "\n",
    "$$\n",
    "\\begin{vmatrix}\n",
    "5 \\\\\n",
    "5 \\\\\n",
    "\\end{vmatrix}\n",
    "=\n",
    "\\begin{vmatrix}\n",
    "5 \\\\\n",
    "5 \\\\\n",
    "\\end{vmatrix}\n",
    "$$\n",
    "\n",
    "Queda en manos del lector demostrar que el vector asociado al autovalor $\\lambda_2=2$ es:\n",
    "\n",
    "$$ v_2 =\n",
    "\\begin{vmatrix}\n",
    "2 \\\\\n",
    "-1 \\\\\n",
    "\\end{vmatrix}\n",
    "$$\n",
    "\n",
    "Estos son los pasos básicos para calcular autovalores y autovectores. En la práctica, se pueden utilizar herramientas computacionales como Python así:"
   ]
  },
  {
   "cell_type": "code",
   "execution_count": 17,
   "metadata": {
    "colab": {
     "base_uri": "https://localhost:8080/"
    },
    "executionInfo": {
     "elapsed": 5,
     "status": "ok",
     "timestamp": 1698021490112,
     "user": {
      "displayName": "JOHN FREDY SUAREZ PEREZ",
      "userId": "07610715876772400534"
     },
     "user_tz": 300
    },
    "id": "QOJgoFxq6lXn",
    "outputId": "cd08acab-d4a0-4a9e-b5de-882bf2c89fa8"
   },
   "outputs": [
    {
     "name": "stdout",
     "output_type": "stream",
     "text": [
      "[2. 5.]\n",
      "[[-0.89442719 -0.70710678]\n",
      " [ 0.4472136  -0.70710678]]\n"
     ]
    }
   ],
   "source": [
    "A = np.array([ [3,2], [1,4] ])\n",
    "\n",
    "autovalores = np.linalg.eig(A)[0]\n",
    "print(autovalores)\n",
    "\n",
    "autovectores = np.linalg.eig(A)[1]\n",
    "print(autovectores)"
   ]
  },
  {
   "cell_type": "markdown",
   "metadata": {},
   "source": [
    "### **2.1.2 Conceptos Fundamentales del Cálculo**\n",
    "\n",
    "\n",
    "El cálculo es una rama de las matemáticas que se ocupa del estudio de las tasas de cambio y acumulación de cantidades. Se divide principalmente en dos áreas: cálculo diferencial y cálculo integral.\n",
    "\n",
    "El cálculo diferencial se centra en el estudio de las tasas de cambio y la derivación. La derivada de una función representa la tasa instantánea de cambio de esa función en un punto dado. Se utiliza para analizar el comportamiento de las funciones en términos de pendientes y velocidades instantáneas.\n",
    "\n",
    "Mientras que el cálculo Integral se ocupa de la acumulación y la suma de cantidades. La integral de una función representa el área bajo la curva de la función en un intervalo dado y proporciona una herramienta fundamental para el análisis de áreas, volúmenes y acumulaciones de cantidades.\n",
    "\n",
    "El cálculo, lejos de ser simplemente una herramienta técnica, se revela como un fascinante conjunto de conceptos que ha cautivado la mente humana a lo largo de siglos. Estas ideas abarcan aspectos como la velocidad, el área, el volumen, la tasa de crecimiento y la tangente a una línea, entre otros. Más allá de su historia, el cálculo desempeña un papel crucial en disciplinas modernas, destacando su utilidad significativa en campos como la Inteligencia Artificial (IA). En el ámbito de la IA, el cálculo se convierte en la base matemática esencial para modelar y comprender fenómenos complejos, permitiendo el desarrollo de algoritmos avanzados y sistemas inteligentes. Las nociones clásicas del cálculo encuentran una nueva dimensión en la resolución de problemas y la toma de decisiones en entornos impulsados por la IA, demostrando su perdurable relevancia y aplicabilidad en la era digital."
   ]
  },
  {
   "cell_type": "markdown",
   "metadata": {},
   "source": [
    "#### **2.1.2.1 Funciones**\n",
    "\n",
    "Uno de los conceptos fundamentales del cálculo es el de *función*, una función matemática es una relación binaria entre dos conjuntos, denominados dominio y codominio, que asigna a cada elemento único del dominio exactamente un elemento del codominio. Formalmente, sea $X$ el dominio y $Y$ el codominio de una función $f$, la función $f$ se define como un conjunto de pares ordenados $(x,y)$, donde $x$ es un elemento del dominio $X$, y $y$ es un elemento del codominio $Y$, de tal manera que para cada $x$ en $X$ existe un único $y$ en $Y$ tal que $(x,y)$ pertenece a la función $f$. La notación matemática típica para expresar esto es $f:X\\rightarrow Y$, donde $f$ es el nombre de la función, $X$ es el dominio, $Y$ es el codominio, y la flecha indica la asignación de elementos de $X$ a elementos correspondientes de $Y$. Es esencial que cada elemento del dominio tenga una asignación única en el codominio para que se cumpla la propiedad fundamental de una función matemática.\n",
    "\n",
    "El método gráfico es ampliamente utilizado para evidenciar el comportamiento de una función debido a su capacidad para proporcionar una representación visual intuitiva de las relaciones matemáticas. A través de la representación gráfica, se logra una conexión inmediata con la naturaleza de la función, permitiendo una comprensión más profunda de cómo los cambios en la variable independiente afectan a la variable dependiente.\n",
    "\n",
    "En un gráfico, la forma y la tendencia de la curva revelan detalles cruciales sobre la función. Puntos como máximos, mínimos y puntos de inflexión se identifican fácilmente, ofreciendo información detallada sobre extremos locales y cambios en la dirección de la función. La intuición visual también permite reconocer patrones, como la concavidad de la curva, lo que contribuye a una comprensión más completa del comportamiento de la función.\n",
    "\n",
    "La capacidad de identificar intersecciones con ejes y otros puntos clave proporciona un contexto significativo para la interpretación de la función en el problema específico. Además, la comparación de múltiples funciones en un solo gráfico se vuelve accesible, lo que facilita el análisis comparativo y la visualización de cómo diferentes funciones interactúan entre sí.\n",
    "\n",
    "La representación gráfica también es valiosa para visualizar tendencias a largo plazo y comportamientos asintóticos. Esto es esencial para comprender el comportamiento de la función en límites infinitos o en situaciones extremas. En última instancia, el método gráfico se destaca por su capacidad para traducir conceptos abstractos en representaciones visuales que hacen que el comportamiento de la función sea más tangible y accesible."
   ]
  },
  {
   "cell_type": "markdown",
   "metadata": {},
   "source": [
    "Como ejemplo, consideremos la función cuadrática estándar $f(x)=x^2$. Esta función es una parábola que abre hacia arriba, y es una función polinómica de segundo grado. Ésta parábola tiene un mínimo en el origen $(0,0)$, éste es el vértice de la parábola. Se dice además que es cóncava hacia arriba."
   ]
  },
  {
   "cell_type": "code",
   "execution_count": 18,
   "metadata": {
    "tags": []
   },
   "outputs": [
    {
     "data": {
      "image/png": "[encoded data removed]",
      "text/plain": [
       "<Figure size 640x480 with 1 Axes>"
      ]
     },
     "metadata": {},
     "output_type": "display_data"
    }
   ],
   "source": [
    "# Definir la función cuadrática\n",
    "def cuadratica(x):\n",
    "    return x**2\n",
    "\n",
    "# Generar datos para la gráfica\n",
    "x_vals = np.linspace(-5, 5, 100)  # Valores de x desde -5 hasta 5\n",
    "y_vals = cuadratica(x_vals)\n",
    "\n",
    "# Crear la gráfica\n",
    "pl.plot(x_vals, y_vals, label='$f(x) = x^2$')  # Etiqueta en formato LaTeX\n",
    "pl.title('Gráfica de $f(x) = x^2$')\n",
    "pl.xlabel('x')\n",
    "pl.ylabel('$f(x)$')\n",
    "\n",
    "# Resaltar puntos clave\n",
    "pl.scatter(0, 0, color='red', marker='o')  # Mínimo en el origen\n",
    "pl.axhline(0, color='black',linewidth=0.5)\n",
    "pl.axvline(0, color='black',linewidth=0.5)\n",
    "\n",
    "# Mostrar la leyenda\n",
    "pl.legend()\n",
    "\n",
    "# Mostrar la gráfica\n",
    "pl.grid(True)\n",
    "pl.show()"
   ]
  },
  {
   "cell_type": "markdown",
   "metadata": {},
   "source": [
    "#### **2.1.2.2 Límites**\n",
    "\n",
    "En cálculo, el concepto de límite es fundamental para entender el comportamiento de una función a medida que la variable independiente se acerca a cierto valor. Formalmente, el límite de una función $f(x)$ a medida que $x$ se acerca a un valor $c$ es el valor al cual $f(x)$ se acerca a medida que $x$ se acerca, pero no iguala, a $c$.\n",
    "\n",
    "La notación matemática para expresar esto es la siguiente:\n",
    "\n",
    "$lim_{⁡x\\rightarrow c} f(x)= L$\n",
    "\n",
    "Esto significa que cuando $x$ se acerca a $c$, los valores de $f(x)$ se acercan a $L$. Sin embargo, es importante destacar que el valor de $f(x)$ en $x=c$ no tiene que estar definido o ser igual a $L$. La idea principal es observar el comportamiento de la función a medida que nos acercamos al punto en cuestión.\n",
    "\n",
    "Hay diferentes situaciones comunes al analizar límites:\n",
    "\n",
    "<br>\n",
    "\n",
    "**Límite finito:** \n",
    "\n",
    "Si $lim_{⁡x\\rightarrow c} f(x)=L$, donde $L$ es un número real finito, se dice que el límite es finito.\n",
    "\n",
    "<br>\n",
    "\n",
    "**Límite infinito:**\n",
    "\n",
    "Si $lim_{⁡x\\rightarrow c} f(x)$ se acerca a infinito o menos infinito, se dice que el límite es infinito.\n",
    "\n",
    "<br>\n",
    "\n",
    "**Límite no existe:**\n",
    "\n",
    "Puede suceder que el límite no exista. Esto podría deberse a que $f(x)$ no se acerca a ningún valor o que se acerca a valores diferentes desde los lados izquierdo y derecho de $c$.\n",
    "\n",
    "<br>\n",
    "\n",
    "**Límite lateral:** \n",
    "\n",
    "También se puede analizar el límite cuando $x$ se acerca a $c$ desde el lado izquierdo ($x  \\rightarrow c^{-}$) o desde el lado derecho ($x \\rightarrow c^{+}$). Si ambos límites laterales son iguales, se dice que el límite existe.\n",
    "\n",
    "Los límites son esenciales para entender la continuidad, derivación e integración en cálculo, y son una herramienta clave en la comprensión del comportamiento de las funciones en puntos específicos."
   ]
  },
  {
   "cell_type": "markdown",
   "metadata": {},
   "source": [
    "Vamos a analizar el límite de la función $f(x)=\\frac{x^2−1}{x−1}$ cuando $x$ se acerca a 1. Veamos cómo se calcula este límite:\n",
    "\n",
    "$$lim_{x\\rightarrow 1}\\frac{x^2−1}{x−1}$$\n",
    "\n",
    "Directamente evaluando la expresión para $x=1$ obtenemos una forma indeterminada ($\\frac{0}{0}$), lo cual indica que podríamos simplificar la expresión para encontrar el límite.\n",
    "\n",
    "$$f(x)=\\frac{x^2−1}{x−1}$$\n",
    "\n",
    "Factorizando el numerador y cancelando términos comunes, obtenemos:\n",
    "\n",
    "$$f(x)=\\frac{(x−1)(x+1)}{x−1}$$\n",
    "\n",
    "Ahora, cancelamos el factor común $(x−1)$:\n",
    "\n",
    "$$f(x)=(x+1)$$\n",
    "\n",
    "Ahora, evaluamos el límite:\n",
    "\n",
    "$$lim_{x\\rightarrow 1}(x+1)$$\n",
    "\n",
    "Al simplemente reemplazar $x$ con $1$, obtenemos:\n",
    "\n",
    "$$lim_{x\\rightarrow 1}(x+1) = 1 + 1 = 2$$\n",
    "\n",
    "Por lo tanto,\n",
    "\n",
    "$$lim_{x\\rightarrow 1}\\frac{x^2−1}{x−1} = 2$$\n",
    "\n",
    "Este ejemplo ilustra cómo simplificar una expresión y calcular un límite que inicialmente parece indeterminado."
   ]
  },
  {
   "cell_type": "markdown",
   "metadata": {},
   "source": [
    "#### **2.1.2.3 Leyes de los límites**\n",
    "\n",
    "Calcular el valor exacto de los Límites muchas veces no suele tan fácil como reemplazar el valor de $a$ en $f(x)$.\n",
    "Es por esto que es importante conocer algunas propiedades de los Límites, ellas son:\n",
    "\n",
    "**Ley de la suma:**\n",
    "\n",
    "El límite de la suma de dos funciones es la suma de sus límites.\n",
    "\n",
    "<br>\n",
    "\n",
    "**Ley de la diferencia:**\n",
    "\n",
    "El límite de la diferencia de dos funciones es la diferencia de sus límites.\n",
    "\n",
    "<br>\n",
    "\n",
    "\n",
    "**Ley del producto:**\n",
    "\n",
    "El límite del producto de dos funciones es el producto de sus límites.\n",
    "\n",
    "<br>\n",
    "\n",
    "**Ley del múltiplo constante:**\n",
    "El límite de una constante por una función es la constante por el límite de la función.\n",
    "\n",
    "<br>\n",
    "\n",
    "**Ley del cociente:**\n",
    "El límite del cociente de dos funciones es el cociente de sus límites, siempre que el límite del denominador sea diferente de cero.\n",
    "\n",
    "Es decir que si tenemos a la constante $C$ y a los límites $lim_{x\\rightarrow a}f(x)$ y $lim_{x\\rightarrow a}g(x)$. \n",
    "Entonces podemos expresar estas propiedades matemáticamente de la siguiente forma:\n",
    "\n",
    "1. Ley de la suma:\n",
    "\n",
    "$$lim_{x\\rightarrow a}[f(x)+g(x)]=lim_{x\\rightarrow a}f(x)+lim_{x\\rightarrow a}g(x)$$\n",
    "\n",
    "2. Ley del producto:\n",
    "\n",
    "$$lim_{x\\rightarrow a}[f(x)\\cdot g(x)]=lim_{x\\rightarrow a}f(x)\\cdot lim_{x\\rightarrow a}g(x)$$\n",
    "\n",
    "3. Ley del multiplo constante:\n",
    "\n",
    "$$lim_{x\\rightarrow a}[C\\cdot f(x)]=C\\cdot lim_{x\\rightarrow a}f(x)$$\n",
    "\n",
    "4. Ley del cociente:\n",
    "$$lim_{x\\rightarrow a}\\left[\\frac{f(x}{g(x)}\\right]= \\frac{lim_{x\\rightarrow a}f(x)}{lim_{x\\rightarrow a}g(x)}$$, si $$lim_{x\\rightarrow a}g(x) \\neq 0$$"
   ]
  },
  {
   "cell_type": "markdown",
   "metadata": {},
   "source": [
    "Con Python podemos usar la librería *sympy* para resolver el límite de la función $f(x)=\\frac{x^2-1}{x-1}$ cuando $x$ se acerca a 1."
   ]
  },
  {
   "cell_type": "code",
   "execution_count": 19,
   "metadata": {
    "tags": []
   },
   "outputs": [
    {
     "name": "stdout",
     "output_type": "stream",
     "text": [
      "El límite de la función cuando x se acerca a 1 es: 2\n"
     ]
    }
   ],
   "source": [
    "from sympy import symbols, limit\n",
    "\n",
    "# Definir la variable y la función\n",
    "x = symbols('x')\n",
    "f_x = (x**2 - 1) / (x - 1)\n",
    "\n",
    "# Calcular el límite cuando x se acerca a 1\n",
    "limite_resultado = limit(f_x, x, 1)\n",
    "\n",
    "# Imprimir el resultado\n",
    "print(\"El límite de la función cuando x se acerca a 1 es:\", limite_resultado)"
   ]
  },
  {
   "cell_type": "markdown",
   "metadata": {},
   "source": [
    "Como vemos, primero creamos el símbolo para representar a la variable x utilizando el objeto *symbols*, y luego calculamos el límite utilizando el objeto *limit*."
   ]
  },
  {
   "cell_type": "markdown",
   "metadata": {},
   "source": [
    "#### **2.1.2.4 Derivadas**\n",
    "\n",
    "En cálculo, la derivada de una función es una medida de cómo cambia el valor de la función en respuesta a cambios infinitesimales en su variable independiente. Matemáticamente, la derivada de una función $f(x)$ con respecto a $x$ se denota como $f^{'}(x)$ o $\\frac{df}{dx}$, y se define como el límite cuando el cambio en $x$ tiende a cero de la razón de cambio promedio de $f$ en ese intervalo:\n",
    "\n",
    "$$f^{'}(x)=lim⁡_{h\\rightarrow 0}\\frac{f(x+h)−f(x)}{h}$$\n",
    "\n",
    "Donde, $f^{'}(x)$ es la derivada de $f$ con respecto a $x$, $h$ es un incremento infinitesimal en $x$. Una notación  alternativa para la derivada es \\frac{df}{dx}.\n",
    "\n",
    "En palabras simples, la derivada mide la tasa instantánea de cambio de una función en un punto específico. Proporciona la pendiente de la recta tangente a la curva de la función en ese punto. \n",
    "\n",
    "La derivada tiene aplicaciones importantes en la física, la ingeniería y otras disciplinas, y es fundamental para entender el concepto de velocidad, aceleración y muchas otras nociones relacionadas con el cambio en el tiempo."
   ]
  },
  {
   "cell_type": "markdown",
   "metadata": {},
   "source": [
    "Por ejemplo si quisiéramos saber cuál es la Derivada de la función $f(x)=x^2$, podemos aplicar la definición anterior del siguiente modo.\n",
    "\n",
    "Comenzamos, definiendo a $f(x+h)=(x+h)^2$, luego expandimos a:\n",
    "\n",
    "$$ (x+h)^2 = x^2 + 2x\\cdot h + h^2)$$\n",
    "\n",
    "Luego reemplazamos esta función en nuestra definición de derivada:\n",
    "\n",
    "$$f^{'}(x)=lim⁡_{h\\rightarrow 0}\\frac{x^2 + 2x\\cdot h + h^2 − x^2}{h}$$\n",
    "\n",
    "Simplificamos los términos:\n",
    "\n",
    "$$f^{'}(x)=lim⁡_{h\\rightarrow 0}\\,2x + h$$\n",
    "\n",
    "y cuando $h$ tiende a cero, obtenemos finalmente la función derivada:\n",
    "\n",
    "$$f^{'}(x)=2x$$\n"
   ]
  },
  {
   "cell_type": "markdown",
   "metadata": {},
   "source": [
    "#### 2.1.2.5 Reglas de la derivación\n",
    "\n",
    "**Regla del grado n**\n",
    "\n",
    "La regla de derivación para una función de la forma $f(x)=x^n$, donde $n$ es una constante (grado de la función), se expresa mediante la siguiente fórmula:\n",
    "\n",
    "$f^{'}(x)=n\\cdot x^{n−1}$\n",
    "\n",
    "En otras palabras, para derivar una función de grado $n$, se toma el exponente actual ($n$) y se coloca como coeficiente, luego se reduce el exponente en $1$. Esta regla se aplica a cualquier función de la forma $x^n$, donde $n$ es un número real.\n",
    "\n",
    "Veamos un ejemplo concreto para ilustrar la aplicación de esta regla. Tomemos la función $f(x)=x^3$, cuyo grado es 3:\n",
    "\n",
    "$$f^{'}(x)=3\\cdot x^{3−1}=3\\cdot x^2$$\n",
    "\n",
    "Por lo tanto, la derivada de $f(x)=x^3$ $f^{'}(x)=3x^2$\n",
    "\n",
    "<br>\n",
    "\n",
    "**Regla de multiplicación por una constante**\n",
    "\n",
    "La regla de la derivación para la multiplicación por una constante establece que si $c$ es una constante y $f(x)$ es una función, entonces la derivada de $c\\cdot f(x)$ es igual a $c$ multiplicado por la derivada de $f(x)$. Matemáticamente, esto se expresa como:\n",
    "\n",
    "$$\\frac{d}{dx}(c\\cdot f(x))=c\\cdot \\frac{d}{dx}f(x)$$\n",
    "\n",
    "Esta regla significa que al derivar una función multiplicada por una constante, la constante se mantiene como coeficiente y se deriva la función original.\n",
    "\n",
    "Veamos un ejemplo para clarificar la aplicación de esta regla. Supongamos que $f(x)=2x^2$, y queremos encontrar la derivada de $3\\cdot f(x)$. Aplicamos la regla de la multiplicación por una constante:\n",
    "\n",
    "$$\\frac{d}{dx}(3 \\cdot f(x))=3 \\cdot \\frac{d}{dx}f(x)$$\n",
    "\n",
    "Dado que $f(x)=2x^2$, encontramos la derivada de $f(x)$ utilizando la regla de la función de grado $n$:\n",
    "\n",
    "$$f^{'}(x)=2\\cdot 2x^{2−1}= 4x$$\n",
    "\n",
    "Sustituimos esto de nuevo en la ecuación original:\n",
    "\n",
    "$$3 \\frac{d}{dx}(f(x))=3 \\cdot 4x = 12x$$\n",
    "\n",
    "Por lo tanto, la derivada de $3\\cdot f(x)$ es $12x$.\n",
    "\n",
    "<br>\n",
    "\n",
    "**Regla de la suma**\n",
    "\n",
    "La regla de la suma para las derivadas establece que si tienes dos funciones $f(x)$ y $g(x)$, entonces la derivada de la suma de estas funciones es la suma de sus derivadas individuales. Matemáticamente, se expresa de la siguiente manera:\n",
    "\n",
    "$$\\frac{d}{dx}(f(x)+g(x))=\\frac{d}{dx}f(x)+\\frac{d}{dx}g(x)$$\n",
    "\n",
    "En otras palabras, al derivar la suma de dos funciones, puedes derivar cada función por separado y luego sumar las derivadas.\n",
    "\n",
    "Vamos a ver un ejemplo para ilustrar la aplicación de esta regla. Supongamos que tienes dos funciones $f(x)=3x^2$ y $g(x)=2x$, y deseas encontrar la derivada de $f(x)+g(x)$. Aplicamos la regla de la suma para las derivadas:\n",
    "\n",
    "$$\\frac{d}{dx}(f(x)+g(x))=\\frac{d}{dx}f(x)+\\frac{d}{dx}g(x)$$\n",
    "\n",
    "Primero, encontramos las derivadas individuales:\n",
    "\n",
    "$$\\frac{d}{dx}f(x)=2\\cdot3x^2−1=6x$$\n",
    "$$\\frac{d}{dx}g(x)=2$$\n",
    "\n",
    "Luego, sumamos estas derivadas:\n",
    "\n",
    "$$\\frac{d}{dx}(f(x)+g(x))=6x+2$$\n",
    "\n",
    "Por lo tanto, la derivada de $f(x)+g(x)$ es $6x+2$, utilizando la regla de la suma para las derivadas."
   ]
  },
  {
   "cell_type": "markdown",
   "metadata": {},
   "source": [
    "**Regla del Producto**\n",
    "\n",
    "La regla del producto en cálculo diferencial establece cómo derivar el producto de dos funciones. Si tienes dos funciones $f(x)$ y $g(x)$, la derivada del producto $f(x)\\cdot g(x)$ se puede calcular utilizando la regla del producto, que se expresa de la siguiente manera:\n",
    "\n",
    "$$\\frac{d}{dx}(f(x)⋅g(x))=f^{'}(x)\\cdot g(x)+f(x)\\cdot g^{'}(x)$$\n",
    "\n",
    "En palabras simples, para derivar el producto de dos funciones, tomas la derivada de la primera función multiplicada por la segunda función, y luego sumas la primera función multiplicada por la derivada de la segunda función.\n",
    "\n",
    "Veamos un ejemplo para ilustrar la aplicación de esta regla. Supongamos que tienes las funciones $f(x)=2x$ y $g(x)=x^2$, y deseas encontrar la derivada de $f(x)\\cdot g(x)$. Aplicamos la regla del producto:\n",
    "\n",
    "Primero, encontramos las derivadas individuales:\n",
    "\n",
    "$$\\frac{d}{dx}f(x)=2$$\n",
    "$$\\frac{d}{dx}g(x)=2x$$\n",
    "\n",
    "Luego, aplicamos la regla del producto:\n",
    "\n",
    "$$\\frac{d}{dx}(f(x)\\cdot g(x))=2\\cdot x^2+2x\\cdot2$$\n",
    "\n",
    "Simplificamos esto:\n",
    "\n",
    "$$\\frac{d}{dx}(f(x)\\cdot g(x))=2x^2+4x$$\n",
    "\n",
    "Por lo tanto, la derivada de $f(x)\\cdot g(x)$ es $2x^2+4x$, utilizando la regla del producto.\n",
    "\n",
    "<br>\n",
    "\n",
    "**Regla de la cadena**\n",
    "\n",
    "La regla de la cadena en cálculo diferencial es una herramienta fundamental para derivar funciones compuestas. Si tienes una función compuesta $h(x)=f(g(x))$, donde $f$ es una función externa y $g$ es una función interna, entonces la derivada de $h(x)$ se puede calcular utilizando la regla de la cadena, que se expresa matemáticamente de la siguiente manera:\n",
    "\n",
    "$$\\frac{d}{dx}f(g(x))=f^{'}(g(x))\\cdot g^{'}(x)$$\n",
    "\n",
    "En otras palabras, para derivar una función compuesta, tomas la derivada de la función externa evaluada en la función interna, y luego multiplicas por la derivada de la función interna.\n",
    "\n",
    "Veamos un ejemplo para entender mejor cómo aplicar la regla de la cadena. Supongamos que tienes la función compuesta $h(x)=(2x+1)^3$. Aquí, la función externa es $f(u)=u^3$ y la función interna es $g(x)=2x+1$. Aplicamos la regla de la cadena:\n",
    "\n",
    "$$\\frac{d}{dx}(2x+1)^3=3\\cdot (2x+1)\\cdot 2$$\n",
    "\n",
    "Simplificamos esto:\n",
    "\n",
    "$$\\frac{d}{dx}(2x+1)^3=6\\cdot (2x+1)^2$$\n",
    "\n",
    "Por lo tanto, la derivada de $h(x)=(2x+1)^3$ utilizando la regla de la cadena es $6\\cdot(2x+1)^2$."
   ]
  },
  {
   "cell_type": "markdown",
   "metadata": {},
   "source": [
    "Para realizar el calculo de derivadas en Python se usa generalmente la libería *SymPy*. Supongamos que queremos encontrar la derivada de la función $f(x)=x^2+3x+5$."
   ]
  },
  {
   "cell_type": "code",
   "execution_count": 20,
   "metadata": {
    "tags": []
   },
   "outputs": [
    {
     "name": "stdout",
     "output_type": "stream",
     "text": [
      "La derivada de f(x) = x**2 + 3*x + 5 es: 2*x + 3\n"
     ]
    }
   ],
   "source": [
    "from sympy import symbols, diff\n",
    "\n",
    "# Definimos la variable simbólica\n",
    "x = symbols('x')\n",
    "\n",
    "# Definimos la función\n",
    "f = x**2 + 3*x + 5\n",
    "\n",
    "# Calculamos la derivada de f con respecto a x\n",
    "f_prime = diff(f, x)\n",
    "\n",
    "print(f\"La derivada de f(x) = {f} es: {f_prime}\")"
   ]
  },
  {
   "cell_type": "markdown",
   "metadata": {},
   "source": [
    "Este código primero importa las funciones necesarias de *SymPy*, luego define la variable simbólica $x$ y la función $f(x)$. Luego, utiliza la función *diff* para calcular la derivada de *f* con respecto a *x*, y finalmente imprime el resultado.\n",
    "\n",
    "Esto confirma que la derivada de $f(x)=x^2+3x+5$ con respecto a $x$ es $2x+3$, que es el resultado esperado."
   ]
  },
  {
   "cell_type": "markdown",
   "metadata": {},
   "source": [
    "#### **2.1.2.6 Máximos, mínimos y Gradiente**\n",
    "\n",
    "Los máximos y mínimos son puntos críticos en una función donde la pendiente (o derivada) de la función es cero. Hay dos tipos de extremos: máximos y mínimos relativos.\n",
    "\n",
    "**Máximo Relativo**\n",
    "\n",
    "Un punto donde la función alcanza un valor más alto en un intervalo cercano, pero no necesariamente el valor más alto en toda la función.\n",
    "\n",
    "<br>\n",
    "\n",
    "**Mínimo Relativo**\n",
    "\n",
    "Un punto donde la función alcanza un valor más bajo en un intervalo cercano, pero no necesariamente el valor más bajo en toda la función.\n",
    "\n",
    "El **gradiente** es un concepto fundamental en cálculo vectorial y representa la dirección y la magnitud máxima de cambio de una función en un punto dado. Formalmente, el gradiente de una función $f(x,y,z,…)$ en un punto $(x_0,y_0,z_0,\\dots)$ se denota por $\\nabla f$ y está dado por el vector de derivadas parciales en ese punto:\n",
    "\n",
    "$$\\nabla f= (\\frac{\\partial f}{\\partial x},\\frac{\\partial f}{\\partial y},\\frac{\\partial f}{\\partial z},\\dots)$$\n",
    "\n",
    "Cada componente del gradiente indica la tasa de cambio de la función con respecto a cada una de las variables.\n",
    "\n",
    "En relación con los máximos y mínimos, el gradiente también es útil. En un punto crítico (donde el gradiente es cero), se puede utilizar la segunda derivada (la matriz hessiana) para determinar si ese punto es un máximo, mínimo o un punto de silla.\n",
    "\n",
    "Si la matriz hessiana es definida positiva en un punto crítico, entonces ese punto es un mínimo local. Si es definida negativa, es un máximo local. Si la matriz es indefinida, el punto es un punto de silla.\n",
    "\n",
    "\n",
    "Para calcular el gradiente de una función en Python, podemos utilizar *SymPy* para cálculos simbólicos. Vamos a encontrar el gradiente de la función $f(x,y)=x^2+y^2$:"
   ]
  },
  {
   "cell_type": "code",
   "execution_count": 21,
   "metadata": {
    "tags": []
   },
   "outputs": [
    {
     "name": "stdout",
     "output_type": "stream",
     "text": [
      "El gradiente de la función f(x, y) = x**2 + y**2 es: [2*x, 2*y]\n"
     ]
    }
   ],
   "source": [
    "from sympy import symbols, diff\n",
    "\n",
    "# Definimos las variables simbólicas\n",
    "x, y = symbols('x y')\n",
    "\n",
    "# Definimos la función\n",
    "f = x**2 + y**2\n",
    "\n",
    "# Calculamos las derivadas parciales\n",
    "df_dx = diff(f, x)\n",
    "df_dy = diff(f, y)\n",
    "\n",
    "# Construimos el vector gradiente\n",
    "gradient = [df_dx, df_dy]\n",
    "\n",
    "print(f\"El gradiente de la función f(x, y) = {f} es: {gradient}\")"
   ]
  },
  {
   "cell_type": "markdown",
   "metadata": {},
   "source": [
    "Este código utiliza *SymPy* para calcular las derivadas parciales de ff con respecto a xx y yy, y luego construye el vector gradiente. \n",
    "\n",
    "Esto significa que el gradiente de $f(x,y)$ es el vector $[2x,2y]$. Cada componente del gradiente indica la tasa de cambio de la función con respecto a las variables $x$ e $y$, respectivamente."
   ]
  },
  {
   "cell_type": "markdown",
   "metadata": {},
   "source": [
    "#### **2.1.2.7 Optimización** \n",
    "\n",
    "En cálculo, la optimización se refiere al proceso de encontrar el máximo o mínimo de una función, lo que implica encontrar los valores de las variables que hacen que la función alcance su valor más alto (máximo) o más bajo (mínimo), es una aplicación directa de los conceptos vistos hasta éste punto. Estos puntos críticos pueden representar, por ejemplo, el costo mínimo, la producción máxima, o cualquier otro objetivo deseado.\n",
    "\n",
    "En el contexto de la inteligencia artificial (IA), la optimización es una parte esencial, especialmente en el aprendizaje automático y el aprendizaje profundo. Aquí hay algunas conexiones clave:\n",
    "\n",
    "**Aprendizaje Supervisado:**\n",
    "\n",
    "En algoritmos de aprendizaje supervisado, como la regresión o la clasificación, la optimización se utiliza para ajustar los parámetros del modelo con el objetivo de minimizar la diferencia entre las predicciones del modelo y las etiquetas reales del conjunto de datos.\n",
    "\n",
    "<br>\n",
    "\n",
    "**Aprendizaje No Supervisado:** \n",
    "\n",
    "En técnicas de aprendizaje no supervisado, como el clustering, la optimización se puede utilizar para definir criterios que minimizan la distancia entre los elementos en el mismo grupo y maximizan la distancia entre grupos.\n",
    "\n",
    "<br>\n",
    "    \n",
    "**Redes Neuronales:** \n",
    "\n",
    "En el aprendizaje profundo, la optimización es crucial para entrenar redes neuronales. Los algoritmos de optimización, como el descenso de gradiente estocástico (SGD) y sus variantes, se utilizan para ajustar los pesos de la red de manera que minimicen la función de pérdida, que mide la discrepancia entre las predicciones del modelo y las etiquetas reales.\n",
    "\n",
    "<br>\n",
    "\n",
    "**Optimización de Hiperparámetros:**\n",
    "\n",
    "Además de optimizar los parámetros internos de un modelo, en IA también es común realizar la optimización de hiperparámetros. Estos son parámetros externos que no son aprendidos durante el entrenamiento del modelo, como tasas de aprendizaje o número de capas en una red neuronal.\n",
    "\n",
    "La optimización en IA es a menudo un proceso iterativo que implica ajustar los parámetros del modelo, evaluar el rendimiento, y repetir este proceso hasta lograr el rendimiento deseado. Algoritmos avanzados de optimización y técnicas, como la optimización bayesiana, también se utilizan para hacer que este proceso sea más eficiente y efectivo."
   ]
  },
  {
   "cell_type": "markdown",
   "metadata": {
    "id": "vX8bB3IwO0KB",
    "tags": []
   },
   "source": [
    "## **2.2 Estadística y probabilidad para IA**\n",
    "\n"
   ]
  },
  {
   "cell_type": "markdown",
   "metadata": {
    "id": "yN6BQq1MCbX4"
   },
   "source": [
    "### **2.2.1 Media y Desviación Estándar**\n",
    "\n",
    "La media es el promedio de un conjunto de datos y se calcula sumando todos los valores y dividiendo por el número de observaciones. Es fundamental para comprender la tendencia central de un conjunto de datos.\n",
    "\n",
    "La desviación estándar mide la dispersión de los datos con respecto a la media. Proporciona una idea de cuánto se alejan los valores individuales del valor promedio.\n"
   ]
  },
  {
   "cell_type": "markdown",
   "metadata": {
    "id": "z7j2-y0FCdRQ"
   },
   "source": [
    "### **2.2.2 Distribución Normal**\n",
    "\n",
    "La distribución normal, o campana de Gauss, es fundamental en estadísticas e IA. Muchos algoritmos asumen que los datos siguen una distribución normal. La característica clave de esta distribución es que la mayoría de los datos se encuentran cerca de la media, y la probabilidad de ocurrencia disminuye a medida que nos alejamos de la media.\n"
   ]
  },
  {
   "cell_type": "markdown",
   "metadata": {
    "id": "6ZyaN035CfAR"
   },
   "source": [
    "### **2.2.3 Probabilidad**\n",
    "\n",
    "La probabilidad es fundamental en estadísticas y aprendizaje automático. En IA, se utiliza para modelar la incertidumbre y tomar decisiones basadas en probabilidades.\n"
   ]
  },
  {
   "cell_type": "markdown",
   "metadata": {
    "id": "4PECTbmcCgPn"
   },
   "source": [
    "### **2.2.4 Inferencia Estadística**\n",
    "\n",
    "La inferencia estadística implica hacer afirmaciones sobre una población basándose en una muestra de datos. Métodos como la prueba de hipótesis y la estimación por intervalos son esenciales para tomar decisiones basadas en datos.\n",
    "\n"
   ]
  },
  {
   "cell_type": "markdown",
   "metadata": {
    "id": "EHkz00r-Chne"
   },
   "source": [
    "### **2.2.5 Regresión**\n",
    "\n",
    "La regresión estadística es utilizada en aprendizaje automático para modelar la relación entre variables. La regresión lineal, por ejemplo, encuentra la mejor línea de ajuste a través de los datos.\n",
    "\n"
   ]
  },
  {
   "cell_type": "markdown",
   "metadata": {
    "id": "R21mLR9FCi1s"
   },
   "source": [
    "### **2.2.6 Muestreo**\n",
    "\n",
    "El muestreo es la técnica de seleccionar un subconjunto de datos de una población más grande. En IA, a menudo se trabaja con conjuntos de datos de muestra para entrenar y evaluar modelos.\n"
   ]
  },
  {
   "cell_type": "markdown",
   "metadata": {
    "id": "gcA-R4qXCkDA"
   },
   "source": [
    "### **2.2.7 Correlación**\n",
    "\n",
    "La correlación mide la relación entre dos variables. Puede ser positiva (ambas variables aumentan juntas), negativa (una variable aumenta mientras la otra disminuye) o nula (no hay relación aparente).\n"
   ]
  },
  {
   "cell_type": "markdown",
   "metadata": {
    "id": "lIFkInoVClmj"
   },
   "source": [
    "### **2.2.8 Validación Cruzada**\n",
    "En aprendizaje automático, la validación cruzada es una técnica estadística que se utiliza para evaluar el rendimiento de un modelo. Ayuda a mitigar el riesgo de sobreajuste y proporciona una estimación más robusta del rendimiento del modelo.\n"
   ]
  },
  {
   "cell_type": "markdown",
   "metadata": {
    "id": "fVpndMy-O6AL",
    "tags": []
   },
   "source": [
    "## **2.3 Regresión lineal simple y polinomial**\n",
    "\n",
    "La regresión lineal simple y polinomial son técnicas de modelado que se utilizan en estadísticas y aprendizaje automático para describir la relación entre una variable independiente (predictora) y una variable dependiente (objetivo).\n",
    "\n"
   ]
  },
  {
   "cell_type": "markdown",
   "metadata": {
    "id": "Die9yY08FuY1",
    "tags": []
   },
   "source": [
    "### **2.3.1 Regresión Lineal Simple**\n",
    "\n",
    "La regresión lineal simple es un modelo estadístico que busca establecer la relación lineal entre una variable dependiente $y$ y una variable independiente $x$. La relación se expresa mediante la ecuación de una línea recta:\n",
    "\n",
    "$$y=mx+b$$\n",
    "\n",
    "Donde:\n",
    "\n",
    "- $y$ es la variable dependiente que estamos tratando de predecir.\n",
    "- $x$ es la variable independiente que se utiliza para hacer la predicción.\n",
    "- $m$ es la pendiente de la línea, que representa la tasa de cambio de yy con respecto a xx.\n",
    "- $b$ es la ordenada al origen, que indica el valor de yy cuando xx es igual a cero.\n",
    "\n",
    "El objetivo de la regresión lineal simple es encontrar los valores de $m$ y $b$ que minimizan la suma de los cuadrados de las diferencias entre las observaciones reales y las predicciones de la línea.\n",
    "\n",
    "La fórmula para calcular la pendiente $m$ en términos de las medias de las variables es:\n",
    "\n",
    "$$m\\frac{\\sum_{i=1}^{n}(x_i−\\bar{x})(y_i−\\bar{y})}{\\sum_{i=1}^{n}(x_i−\\bar{x})^2}$$\n",
    "\n",
    "Y la fórmula para calcular la ordenada al origen $b$ es:\n",
    "\n",
    "$$b=\\bar{y}−m\\bar{x}$$\n",
    "\n",
    "Donde:\n",
    "- $\\bar{x}$ es la media de $x$\n",
    "- $\\bar{y}$ es la media de $y$.\n",
    "- $n$ es el número de observaciones.\n",
    "\n",
    "En resumen, la regresión lineal simple busca encontrar la línea que mejor se ajusta a los datos, minimizando la suma de los cuadrados de las diferencias entre las observaciones reales y las predicciones de la línea.\n",
    "\n",
    "La regresión linela simple tiene multiples aplicaciones en la predicción de variables continuas, análisis de tendencias a lo largo del tiempo y modelado de relaciones lineales simples."
   ]
  },
  {
   "cell_type": "markdown",
   "metadata": {},
   "source": [
    "A continuación vamos a explorar un código escrito en Python que nos permitirá ejecutar una regresión lineal simple."
   ]
  },
  {
   "cell_type": "code",
   "execution_count": 22,
   "metadata": {
    "tags": []
   },
   "outputs": [
    {
     "data": {
      "image/png": "[encoded data removed]",
      "text/plain": [
       "<Figure size 640x480 with 1 Axes>"
      ]
     },
     "metadata": {},
     "output_type": "display_data"
    },
    {
     "name": "stdout",
     "output_type": "stream",
     "text": [
      "Pendiente (m): 0.4\n",
      "Ordenada al origen (b): 1.7999999999999998\n"
     ]
    }
   ],
   "source": [
    "# Datos de ejemplo\n",
    "x = np.array([1, 2, 3, 4, 5])\n",
    "y = np.array([2, 3, 2.5, 4, 3.5])\n",
    "\n",
    "# Calcular las medias\n",
    "mean_x = np.mean(x)\n",
    "mean_y = np.mean(y)\n",
    "\n",
    "# Calcular la pendiente (m)\n",
    "m = np.sum((x - mean_x) * (y - mean_y)) / np.sum((x - mean_x) ** 2)\n",
    "\n",
    "# Calcular la ordenada al origen (b)\n",
    "b = mean_y - m * mean_x\n",
    "\n",
    "# Hacer predicciones\n",
    "y_pred = m * x + b\n",
    "\n",
    "# Graficar los datos y la línea de regresión\n",
    "pl.scatter(x, y, color='blue', label='Datos reales')\n",
    "pl.plot(x, y_pred, color='red', linewidth=2, label='Línea de regresión')\n",
    "pl.xlabel('Variable Independiente (x)')\n",
    "pl.ylabel('Variable Dependiente (y)')\n",
    "pl.legend()\n",
    "pl.show()\n",
    "\n",
    "# Imprimir los coeficientes de la línea\n",
    "print(f\"Pendiente (m): {m}\")\n",
    "print(f'Ordenada al origen (b): {b}')"
   ]
  },
  {
   "cell_type": "markdown",
   "metadata": {},
   "source": [
    "Otra forma de hacer el calculo de regresión lineal simple  es utilizando la biblioteca de Python llamada *scikit-learn*."
   ]
  },
  {
   "cell_type": "code",
   "execution_count": 23,
   "metadata": {
    "tags": []
   },
   "outputs": [
    {
     "data": {
      "image/png": "[encoded data removed]",
      "text/plain": [
       "<Figure size 640x480 with 1 Axes>"
      ]
     },
     "metadata": {},
     "output_type": "display_data"
    },
    {
     "name": "stdout",
     "output_type": "stream",
     "text": [
      "Pendiente (m): 0.4000000000000001\n",
      "Ordenada al origen (b): 1.7999999999999998\n"
     ]
    }
   ],
   "source": [
    "from sklearn.linear_model import LinearRegression\n",
    "\n",
    "# Datos de ejemplo\n",
    "x = np.array([1, 2, 3, 4, 5])\n",
    "y = np.array([2, 3, 2.5, 4, 3.5])\n",
    "\n",
    "# Reshape x para que sea una matriz 2D, necesario para scikit-learn\n",
    "x = x.reshape(-1, 1)\n",
    "\n",
    "# Crear un modelo de regresión lineal\n",
    "modelo = LinearRegression()\n",
    "\n",
    "# Entrenar el modelo\n",
    "modelo.fit(x, y)\n",
    "\n",
    "# Hacer predicciones\n",
    "y_pred = modelo.predict(x)\n",
    "\n",
    "# Graficar los datos y la línea de regresión\n",
    "pl.scatter(x, y, color='blue', label='Datos reales')\n",
    "pl.plot(x, y_pred, color='red', linewidth=2, label='Línea de regresión')\n",
    "pl.xlabel('Variable Independiente (x)')\n",
    "pl.ylabel('Variable Dependiente (y)')\n",
    "pl.legend()\n",
    "pl.show()\n",
    "\n",
    "# Imprimir los coeficientes de la línea\n",
    "print(f\"Pendiente (m): {modelo.coef_[0]}\")\n",
    "print(f'Ordenada al origen (b): {modelo.intercept_}')"
   ]
  },
  {
   "cell_type": "markdown",
   "metadata": {},
   "source": [
    "Este código crea datos de ejemplo, ajusta un modelo de regresión lineal y grafica los datos reales junto con la línea de regresión. La salida del código mostrará los coeficientes de la línea, que son la pendiente ($m$) y la ordenada al origen ($b$). "
   ]
  },
  {
   "cell_type": "markdown",
   "metadata": {},
   "source": [
    "#### **2.3.1.1 Ejemplo: Salary Data**\n",
    "\n",
    "En el mundo real los conjuntos de datos (*dataset*) son masivos, un ejemplo simple para aplicar el algoritmo de regresión lineal es el dataset [Salary Data](https://www.kaggle.com/datasets/rohankayan/years-of-experience-and-salary-dataset). Este dataset contiene dos columnas, la primera, el número de años de experiencia y el segundo el salario."
   ]
  },
  {
   "cell_type": "code",
   "execution_count": 24,
   "metadata": {
    "tags": []
   },
   "outputs": [
    {
     "name": "stdout",
     "output_type": "stream",
     "text": [
      "   YearsExperience   Salary\n",
      "0              1.1  39343.0\n",
      "1              1.3  46205.0\n",
      "2              1.5  37731.0\n",
      "3              2.0  43525.0\n",
      "4              2.2  39891.0\n"
     ]
    },
    {
     "data": {
      "image/png": "[encoded data removed]",
      "text/plain": [
       "<Figure size 640x480 with 1 Axes>"
      ]
     },
     "metadata": {},
     "output_type": "display_data"
    },
    {
     "name": "stdout",
     "output_type": "stream",
     "text": [
      "Pendiente (m): 9449.962321455074\n",
      "Ordenada al origen (b): 25792.20019866871\n"
     ]
    }
   ],
   "source": [
    "import pandas as pd\n",
    "from sklearn.linear_model import LinearRegression\n",
    "\n",
    "# Cargar el conjunto de datos (puedes descargarlo desde Kaggle)\n",
    "# Aquí asumo que ya tienes un archivo CSV llamado 'Salary_Data.csv'\n",
    "data = pd.read_csv('data/Salary_Data.csv')\n",
    "\n",
    "# Visualizar los primeros registros del conjunto de datos\n",
    "print(data.head())\n",
    "\n",
    "# Separar las características (X) y la variable objetivo (y)\n",
    "X = data['YearsExperience'].values.reshape(-1, 1)\n",
    "y = data['Salary'].values\n",
    "\n",
    "# Crear un modelo de regresión lineal\n",
    "modelo = LinearRegression()\n",
    "\n",
    "# Entrenar el modelo\n",
    "modelo.fit(X, y)\n",
    "\n",
    "# Hacer predicciones en el conjunto de prueba\n",
    "y_pred = modelo.predict(X)\n",
    "\n",
    "# Graficar los datos y la línea de regresión\n",
    "pl.scatter(X, y, color='blue', label='Datos reales')\n",
    "pl.plot(X, y_pred, color='red', linewidth=2, label='Línea de regresión')\n",
    "pl.xlabel('Años de Experiencia')\n",
    "pl.ylabel('Salario')\n",
    "pl.title('Regresión Lineal Simple en Salarios')\n",
    "pl.legend()\n",
    "pl.show()\n",
    "\n",
    "# Imprimir los coeficientes de la línea\n",
    "print(f\"Pendiente (m): {modelo.coef_[0]}\")\n",
    "print(f'Ordenada al origen (b): {modelo.intercept_}')"
   ]
  },
  {
   "cell_type": "markdown",
   "metadata": {},
   "source": [
    "El rendimiento de un modelo de regresión se puede realizar utilizando métricas de evaluación. Algunas métricas comunes para regresión incluyen el error absoluto medio (MAE), el error cuadrático medio (MSE) y la raíz del error cuadrático medio (RMSE).\n",
    "\n",
    "El **Error Absoluto Medio** (MAE, por sus siglas en inglés Mean Absolute Error) es una métrica utilizada para evaluar la precisión de un modelo de regresión. Se calcula como el promedio de las diferencias absolutas entre las predicciones del modelo y los valores reales. La fórmula del MAE es:\n",
    "\n",
    "$$MAE=\\frac{1}{n} \\sum_{i=1}^{n} |y_i−\\hat{y}_i|$$\n",
    "\n",
    "Donde:\n",
    "- $n$ es el número total de observaciones.\n",
    "- $y_i$ es el valor real de la variable dependiente para la observación $i$.\n",
    "- $\\hat{y}_i$ es la predicción del modelo para la observación $i$.\n",
    "\n",
    "En términos simples, el *MAE* mide el error promedio absoluto entre las predicciones y los valores reales. Cuanto menor sea el valor del MAE, mejor será la capacidad predictiva del modelo.\n",
    "\n",
    "El **Error Cuadrático Medio** (MSE, por sus siglas en inglés Mean Squared Error) es otra métrica comúnmente utilizada en regresión para evaluar la calidad de las predicciones de un modelo. Se calcula como el promedio de los cuadrados de las diferencias entre las predicciones del modelo y los valores reales. La fórmula del MSE es:\n",
    "\n",
    "$$MSE=\\frac{1}{n} \\sum_{i=1}^{n}(y_i−\\hat{y}_i)^2$$\n",
    "\n",
    "Donde:\n",
    "- $n$ es el número total de observaciones.\n",
    "- $y_i$ es el valor real de la variable dependiente para la observación $i$.\n",
    "- $y^i$ es la predicción del modelo para la observación $i$.\n",
    "\n",
    "El MSE penaliza más fuertemente las grandes diferencias entre las predicciones y los valores reales, ya que eleva al cuadrado estas diferencias. Al igual que con el MAE, un valor menor de MSE indica un mejor rendimiento del modelo.\n",
    "\n",
    "La **Raíz del Error Cuadrático Medio** (RMSE, por sus siglas en inglés Root Mean Squared Error) es una métrica que se utiliza comúnmente para evaluar la precisión de un modelo de regresión. Es una versión de la métrica Error Cuadrático Medio (MSE) pero se toma la raíz cuadrada del MSE."
   ]
  },
  {
   "cell_type": "code",
   "execution_count": 28,
   "metadata": {
    "tags": []
   },
   "outputs": [
    {
     "name": "stdout",
     "output_type": "stream",
     "text": [
      "Error Absoluto Medio (MAE): 4644.2012894435375\n",
      "Error Cuadrático Medio (MSE): 31270951.722280968\n",
      "Raíz del Error Cuadrático Medio (RMSE): 5592.043608760662\n"
     ]
    }
   ],
   "source": [
    "from sklearn.metrics import mean_squared_error\n",
    "from sklearn.metrics import mean_absolute_error\n",
    "\n",
    "mae = mean_absolute_error(y, y_pred)\n",
    "print(f\"Error Absoluto Medio (MAE): {mae}\")\n",
    "\n",
    "# Calcular el Error Cuadrático Medio (MSE)\n",
    "mse = mean_squared_error(y, y_pred)\n",
    "print(f\"Error Cuadrático Medio (MSE): {mse}\")\n",
    "\n",
    "# Calcular la Raíz del Error Cuadrático Medio (RMSE)\n",
    "rmse = np.sqrt(mse)\n",
    "print(f\"Raíz del Error Cuadrático Medio (RMSE): {rmse}\")"
   ]
  },
  {
   "cell_type": "markdown",
   "metadata": {
    "id": "TR_GP5VIGIzn",
    "jp-MarkdownHeadingCollapsed": true,
    "tags": []
   },
   "source": [
    "### **2.3.2 Regresión Polinomial**\n",
    "La regresión polinomial extiende la regresión lineal simple permitiendo modelos más complejos que incluyen términos polinomiales de grado superior. La ecuación general de la regresión polinomial es:\n"
   ]
  },
  {
   "cell_type": "code",
   "execution_count": 26,
   "metadata": {
    "tags": []
   },
   "outputs": [
    {
     "name": "stdout",
     "output_type": "stream",
     "text": [
      "Error Cuadrático Medio (MSE): 31270951.722280968\n",
      "Raíz del Error Cuadrático Medio (RMSE): 5592.043608760662\n"
     ]
    }
   ],
   "source": []
  },
  {
   "cell_type": "markdown",
   "metadata": {
    "id": "pI1k7R_9GPKk"
   },
   "source": [
    "### **2.3.3 Diferencias entre la regresión lineal y la regresión polinomica**\n",
    "\n",
    "**Complejidad del Modelo:**\n",
    "\n",
    "- La regresión lineal simple asume una relación lineal directa entre\n",
    "$x$ e $y$. \n",
    "- La regresión polinomial permite relaciones no lineales y se adapta a patrones más complejos mediante la inclusión de términos polinomiales.\n",
    "\n",
    "\n",
    "**Ajuste a los Datos:**\n",
    "\n",
    "- La regresión lineal simple es más adecuada para datos que siguen una tendencia lineal clara.\n",
    "- La regresión polinomial es más flexible y puede adaptarse mejor a datos con patrones no lineales.\n",
    "\n",
    "\n",
    "**Número de Parámetros:**\n",
    "\n",
    "- La regresión lineal simple tiene dos parámetros ($m$ y $b$).\n",
    "- La regresión polinomial tiene más parámetros, determinados por el grado del polinomio.\n",
    "\n",
    "Ambos tipos de regresión son herramientas poderosas para analizar y predecir relaciones entre variables. La elección entre regresión lineal simple y polinomial dependerá de la naturaleza de los datos y la complejidad de la relación subyacente."
   ]
  },
  {
   "cell_type": "code",
   "execution_count": null,
   "metadata": {
    "id": "OQfDI-C2O21f"
   },
   "outputs": [],
   "source": []
  }
 ],
 "metadata": {
  "colab": {
   "authorship_tag": "ABX9TyMhG9Px3usqnuaa5tUsHPPY",
   "provenance": [],
   "toc_visible": true
  },
  "kernelspec": {
   "display_name": "Python 3 (ipykernel)",
   "language": "python",
   "name": "python3"
  },
  "language_info": {
   "codemirror_mode": {
    "name": "ipython",
    "version": 3
   },
   "file_extension": ".py",
   "mimetype": "text/x-python",
   "name": "python",
   "nbconvert_exporter": "python",
   "pygments_lexer": "ipython3",
   "version": "3.10.13"
  }
 },
 "nbformat": 4,
 "nbformat_minor": 4
}
